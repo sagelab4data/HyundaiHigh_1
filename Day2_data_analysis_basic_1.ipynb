{
 "cells": [
  {
   "cell_type": "markdown",
   "metadata": {},
   "source": [
    "# **사전준비 for windows**\n",
    "\n",
    "window 기본 폰트인 맑은고딕으로 설정한다. \n",
    "window에 설치된 jupyter notebook kernel에서 실행할 때 사용한다.\n",
    "(colab으로 진행할 경우에는 '사전준비 for colab' 만 실행하면 된다"
   ]
  },
  {
   "cell_type": "code",
   "execution_count": null,
   "metadata": {},
   "outputs": [],
   "source": [
    "clomn = 1001001212213121001212122131210012122234385676513121212213121001212223438567651312121221312100121222343856765131212122131210012122234385676513121212213121001212223438567651312121221312100121222343856765131212122131210012122234385676513121212213121001212223438567651312121221312100121222343856765131212122131210012122234385676513121212213121001212223438567651312121221312100121222343856765131212122131210012122234385676513121212213121001212223438567651312121221312100121222343856765131212122131210012122234385676513121212213121001212223438567651312121221312100121222343856765131212122131210012122234385676513121212213121001212223438567651312121221312100121222343856765131212122131210012122234385676513121212213121001212223438567651312121221312100121222343856765131212122131210012122234385676513121212213121001212223438567651312121221312100121222343856765131212122131210012122234385676513121212213121001212223438567651312121221312100121222343856765131212122131210012122234385676513121212213121001212223438567651312121221312100121222343856765131212122131210012122234385676513121212213121001212223438567651312121221312100121222343856765131212122131210012122234385676513121212213121001211212213121001212223438567651312121221312100121222343856765131212122131210012122234385676513121212213121001212223438567651312121221312100121222343856765131212122131210012122234385676513121212213121001212223438567651312121221312100121222343856765131212122131210012122234385676513121212213121001212223438567651312121221312100121222343856765131212122131210012122234385676513121212213121001212223438567651312121221312100121121221312100121222343856765131212122131210012122234382223438567651312121221322234385676513121212213222343856765131212122132223438567651312121221322234385676513121212213222343856765131212122132223438567651312121221322234385676513121212213222343856765131212122132223438567651312121221322234385676513121212213222343856765131212122132223438567651312121221322234385676513121212213222343856765131212122132223438567651312121221322234385676513121212213222343856765131212122132223438567651312121221322234385676513121212213222343856765131212122132223438567651312121221322234385676513121212213222343856765131212122132223438567651312121221322234385676513121212213222343856765131212122132223438567651312121221322234385676513121212213222343856765131212122132223438567651312121221322234385676513121212213222343856765131212122132223438567651312121221322234385676513121212213222343856765131212122132223438567651312121221322234385676513121212213222343856765131212122132223438567651312121221322234385676513121212213222343856765131212122132223438567651312121221322234385676513121212213222343856765131212122132223438567651312121221322234385676513121212213222343856765131212122132223438567651312121221322234385676513121212213222343856765131212122132223438567651312121221322234385676513121212213222343856765131212122132223438567651312121221322234385676513121212213222343856765131212122132223438567651312121221322234385676513121212213222343856765131212122132223438567651312121221322234385676513121212213222343856765131212122132223438567651312121221322234385676513121212213222343856765131212122132223438567651312121221322234385676513121212213222343856765131212122132223438567651312121221322234385676513121212213222343856765131212122132223438567651312121221322234385676513121212213567651312121221312100121222343856765131212122131210012122234385676513122223438567651312121221312100121222343856765131212122131210012122234385676513122223438567651312121221312100121222343856765131212122131210012122234385676513121222343856765131212122131210012122234385676513121212213121001212223438567651312121221312100121222343856765131212122131210012122234385676513121212213121001212223438567651312121221312100121222343856765131212122131210012122234385676513121212213121001212223438567651312121221312100121222343856765131212122131210012122234385676513121212213121001212223438567651312121221312100121222343856765131212122131210012122234385676513121212213121001212223438567651312121221312100121222343856765131212122131210012122234385676513121212213121001212223438567651312121221312100121222343856765131212122131210012122234385676513121212213121001212223438567651312121221312100121222343856765131212122131210012122234385676513121212213121001212223438567651312121221312100121221312 * 1001212213121001212213121001212223438567651312121221312100121222343856765131212122131210012122234385676513121212213121001212223438567651312121221312100121222343856765131212122131210012122234385676513121212213121221312100121222343856765131212122131210012122234385676513121212213121001212223438567651312121221312100121222343856765131212122131210012122234385676513121212213121001212223438567651312121221312100121222343856765131212122131210012122234385676513121212213121001212223438567651312121221312100121222343856765131212122131210012122234385676513121212213121001212223438567651312121221312100121222343856765131212122131210012122234385676513121212213121001212223438567651312121221312100121222343856765131212122131210012122234385676513121212213121001212223438567651312121221312100121222343856765131212122131210012122234385676513121212213121001212223438567651312121221312100121222343856765131212122131210012122234385676513121212213121001212223438567651312121221312100121222343856765131212122131210012122234385676513121212213121001212223438567651312121221312100121222343856765131212122131210012122234385676513121212213121001212223438567651312121221312100121222343856765131212122131210012122234385676513121212213121001212223438567651312121221312100121222343856765131212122131210012122234385676513121212213121001212223438567651312121221312100121222343856765131212122131210012122234385676513121212213121001212223438567651312121221312100121222343856765131212100121222343856765131212122131210012122234385676513121001212213121001212213121001212213121001212213121001212213121001212213121001212213121001212213121001212213121001212213121001212213121001212213121001212213121001212213121001212213121001212213121100121221312100121221312100121221312100121221312100121221312100121221312100121221312100121221312100121221312100121221312100121221312100121221312100121221312100121221312100121221312100121221312100121221312100121221312100121221312100121221312100121221312100121221312100121221311001212213121001212213121001212213121001212213121001212213121001212213121001212213121001212213121001212213121001212213121001212213121001212213121001212213121001212213121001212213121001212213121001212213121001212213121001212213121001212213121001212213121001212213121432234200121221312100121221312100121221312100121221312100121221312100121221312210012122131210012122131210012122131210012122131210012122131210012122131210012122131200121221312100121221312100121221312100121221312\n",
    "clomn"
   ]
  },
  {
   "cell_type": "code",
   "execution_count": null,
   "metadata": {},
   "outputs": [],
   "source": [
    "# 관련 라이브러리 임포트\n",
    "import matplotlib.font_manager as fm  # 폰트 관련 \n",
    "import matplotlib.pyplot as plt   # 그래프 내 설정\n",
    "import matplotlib as mpl  # 기본 설정 "
   ]
  },
  {
   "cell_type": "code",
   "execution_count": null,
   "metadata": {},
   "outputs": [],
   "source": [
    "# 폰트의 경로를 통해 사용할 폰트 (맑은고딕)를 지정한다.\n",
    "\n",
    "path = r'C:\\Windows\\Fonts\\malgun.ttf'\n",
    "font_name = fm.FontProperties(fname=path, size=10).get_name()\n",
    "print(font_name)\n",
    "mpl.rc('font', family=font_name)    # 맑은고딕으로 설정\n",
    "mpl.rcParams['axes.unicode_minus'] = False  # - 부호 오류 보정"
   ]
  },
  {
   "cell_type": "markdown",
   "metadata": {},
   "source": [
    "# **사전준비 for colab**\n",
    "matplotlib 그래프 내 한글 글꼴 표시를 위한 설치 및 런타임 다시 시작과 폰트 설정 작업을 단계별로 수행한다."
   ]
  },
  {
   "cell_type": "markdown",
   "metadata": {},
   "source": [
    "## [1] 폰트 설치 (나눔글꼴) 및 폰트매니저 재구성"
   ]
  },
  {
   "cell_type": "code",
   "execution_count": 1,
   "metadata": {},
   "outputs": [],
   "source": [
    "\n",
    "####  없어도 됨 [폰트개수 확인용]\n",
    "# 시스템내 최초 설치된 폰트개수 확인 - 처음에는 기본 폰트만 설치됨\n",
    "\n",
    "import matplotlib.font_manager as fm  # 폰트 관련 용도\n",
    "sys_font=fm.findSystemFonts()\n",
    "print(f\"sys_font number: {len(sys_font)}\")\n",
    "\n",
    "nanum_font = [f for f in sys_font if 'Nanum' in f]\n",
    "print(f\"nanum_font number: {len(nanum_font)}\")"
   ]
  },
  {
   "cell_type": "code",
   "execution_count": null,
   "metadata": {},
   "outputs": [],
   "source": [
    "# 나눔고딕 폰트 설치\n",
    "\n",
    "!apt-get update -qq\n",
    "!apt-get install fonts-nanum* -qq"
   ]
  },
  {
   "cell_type": "code",
   "execution_count": 1,
   "metadata": {},
   "outputs": [],
   "source": [
    "####  없어도 됨 [폰트개수 확인용]\n",
    "# 설치 후  폰트 개수 확인,  늘어 난 것을 알 수 있다.\n",
    "\n",
    "import matplotlib.font_manager as fm  # 폰트 관련 용도\n",
    "sys_font=fm.findSystemFonts()\n",
    "print(f\"sys_font number: {len(sys_font)}\")\n",
    "\n",
    "nanum_font = [f for f in sys_font if 'Nanum' in f]\n",
    "print(f\"nanum_font number: {len(nanum_font)}\")"
   ]
  },
  {
   "cell_type": "code",
   "execution_count": null,
   "metadata": {},
   "outputs": [],
   "source": [
    "# 폰트 매니저 재설정을 위한 명령문 수행 : fm._rebuild()\n",
    "import matplotlib.font_manager as fm\n",
    "fm._rebuild()"
   ]
  },
  {
   "cell_type": "markdown",
   "metadata": {
    "colab_type": "text",
    "id": "0RS62YC4rMUj"
   },
   "source": [
    "## [2] 폰트 인식을 위한  '런타임 다시시작'\n",
    "  - '런타임' - '런타임 다시 시작' \n",
    "  - 또는 'Ctrl-M'"
   ]
  },
  {
   "cell_type": "markdown",
   "metadata": {},
   "source": [
    "## [3] 런타임 재시작 이후 \n",
    "   - 폰트  설정 및 마이너스 부호 오류 처리\n",
    "   - **시작 이후에는 본 셀 이후 부터 실행한다.**"
   ]
  },
  {
   "cell_type": "code",
   "execution_count": null,
   "metadata": {},
   "outputs": [],
   "source": [
    "# 관련 라이브러리 임포트\n",
    "import matplotlib.font_manager as fm  # 폰트 관련 \n",
    "import matplotlib.pyplot as plt   # 그래프 내 설정\n",
    "import matplotlib as mpl  # 기본 설정 "
   ]
  },
  {
   "cell_type": "code",
   "execution_count": null,
   "metadata": {},
   "outputs": [],
   "source": [
    "####  없어도 됨 [폰트개수 확인용]\n",
    "# 런타임 다시 시작 이후, 설치 된 폰트 개수가 증가 한 상태임을 알 수 있다. \n",
    "sys_font=fm.findSystemFonts()\n",
    "print(f\"sys_font number: {len(sys_font)}\")\n",
    "\n",
    "nanum_font = [f for f in sys_font if 'Nanum' in f]\n",
    "print(f\"nanum_font number: {len(nanum_font)}\")"
   ]
  },
  {
   "cell_type": "code",
   "execution_count": null,
   "metadata": {},
   "outputs": [],
   "source": [
    "# 폰트의 경로를 통해 사용할 폰트 (나눔고딕)를 지정한다.\n",
    "path = '/usr/share/fonts/truetype/nanum/NanumGothic.ttf'  # 설치된 나눔글꼴중 사용할 폰트의 전체 경로를 가져오자\n",
    "font_name = fm.FontProperties(fname=path, size=10).get_name()\n",
    "print(font_name)\n",
    "plt.rc('font', family=font_name)\n",
    "# 마이너스 부호 처리에 오류가 있는 경우를 방지 하기 위한 설정\n",
    "mpl.rcParams['axes.unicode_minus'] = False  "
   ]
  },
  {
   "cell_type": "markdown",
   "metadata": {},
   "source": [
    "# **데이터 수집**"
   ]
  },
  {
   "cell_type": "markdown",
   "metadata": {},
   "source": [
    "### 판다스 라이브러리 불러오기"
   ]
  },
  {
   "cell_type": "code",
   "execution_count": 3,
   "metadata": {},
   "outputs": [],
   "source": [
    "import pandas as pd "
   ]
  },
  {
   "cell_type": "code",
   "execution_count": null,
   "metadata": {},
   "outputs": [],
   "source": []
  },
  {
   "cell_type": "markdown",
   "metadata": {},
   "source": [
    "### 데이터 프레임 생성하기 : CVS 파일 읽어오기\n",
    "   - CSV 파일의 한글을 읽기 위해서 encoding 란에 'euc-kr'을 입력합니다.\n",
    "   - 'euc-kr'은 완성형 한글을 의미합니다."
   ]
  },
  {
   "cell_type": "code",
   "execution_count": 4,
   "metadata": {},
   "outputs": [
    {
     "data": {
      "text/html": [
       "<div>\n",
       "<style scoped>\n",
       "    .dataframe tbody tr th:only-of-type {\n",
       "        vertical-align: middle;\n",
       "    }\n",
       "\n",
       "    .dataframe tbody tr th {\n",
       "        vertical-align: top;\n",
       "    }\n",
       "\n",
       "    .dataframe thead th {\n",
       "        text-align: right;\n",
       "    }\n",
       "</style>\n",
       "<table border=\"1\" class=\"dataframe\">\n",
       "  <thead>\n",
       "    <tr style=\"text-align: right;\">\n",
       "      <th></th>\n",
       "      <th>상태별</th>\n",
       "      <th>2020. 02. 04</th>\n",
       "      <th>2020. 02. 05</th>\n",
       "      <th>2020. 02. 06</th>\n",
       "      <th>2020. 02. 07</th>\n",
       "      <th>2020. 02. 08</th>\n",
       "      <th>2020. 02. 09</th>\n",
       "      <th>2020. 02. 10</th>\n",
       "      <th>2020. 02. 11</th>\n",
       "      <th>2020. 02. 12</th>\n",
       "      <th>...</th>\n",
       "      <th>2020. 10. 22</th>\n",
       "      <th>2020. 10. 23</th>\n",
       "      <th>2020. 10. 24</th>\n",
       "      <th>2020. 10. 25</th>\n",
       "      <th>2020. 10. 26</th>\n",
       "      <th>2020. 10. 27</th>\n",
       "      <th>2020. 10. 28</th>\n",
       "      <th>2020. 10. 29</th>\n",
       "      <th>2020. 10. 30</th>\n",
       "      <th>2020. 10. 31</th>\n",
       "    </tr>\n",
       "  </thead>\n",
       "  <tbody>\n",
       "    <tr>\n",
       "      <td>0</td>\n",
       "      <td>해외유입</td>\n",
       "      <td>NaN</td>\n",
       "      <td>NaN</td>\n",
       "      <td>NaN</td>\n",
       "      <td>NaN</td>\n",
       "      <td>NaN</td>\n",
       "      <td>NaN</td>\n",
       "      <td>NaN</td>\n",
       "      <td>NaN</td>\n",
       "      <td>NaN</td>\n",
       "      <td>...</td>\n",
       "      <td>17</td>\n",
       "      <td>17</td>\n",
       "      <td>11</td>\n",
       "      <td>11</td>\n",
       "      <td>25</td>\n",
       "      <td>16</td>\n",
       "      <td>7</td>\n",
       "      <td>19</td>\n",
       "      <td>21</td>\n",
       "      <td>31</td>\n",
       "    </tr>\n",
       "    <tr>\n",
       "      <td>1</td>\n",
       "      <td>국내발생</td>\n",
       "      <td>NaN</td>\n",
       "      <td>NaN</td>\n",
       "      <td>NaN</td>\n",
       "      <td>NaN</td>\n",
       "      <td>NaN</td>\n",
       "      <td>NaN</td>\n",
       "      <td>NaN</td>\n",
       "      <td>NaN</td>\n",
       "      <td>NaN</td>\n",
       "      <td>...</td>\n",
       "      <td>104</td>\n",
       "      <td>138</td>\n",
       "      <td>66</td>\n",
       "      <td>50</td>\n",
       "      <td>94</td>\n",
       "      <td>72</td>\n",
       "      <td>96</td>\n",
       "      <td>106</td>\n",
       "      <td>93</td>\n",
       "      <td>96</td>\n",
       "    </tr>\n",
       "    <tr>\n",
       "      <td>2</td>\n",
       "      <td>신규</td>\n",
       "      <td>18.0</td>\n",
       "      <td>1.0</td>\n",
       "      <td>4.0</td>\n",
       "      <td>1.0</td>\n",
       "      <td>0.0</td>\n",
       "      <td>3.0</td>\n",
       "      <td>0.0</td>\n",
       "      <td>1.0</td>\n",
       "      <td>0.0</td>\n",
       "      <td>...</td>\n",
       "      <td>121</td>\n",
       "      <td>155</td>\n",
       "      <td>77</td>\n",
       "      <td>61</td>\n",
       "      <td>119</td>\n",
       "      <td>88</td>\n",
       "      <td>103</td>\n",
       "      <td>125</td>\n",
       "      <td>114</td>\n",
       "      <td>127</td>\n",
       "    </tr>\n",
       "  </tbody>\n",
       "</table>\n",
       "<p>3 rows × 272 columns</p>\n",
       "</div>"
      ],
      "text/plain": [
       "    상태별  2020. 02. 04  2020. 02. 05  2020. 02. 06  2020. 02. 07  2020. 02. 08  \\\n",
       "0  해외유입           NaN           NaN           NaN           NaN           NaN   \n",
       "1  국내발생           NaN           NaN           NaN           NaN           NaN   \n",
       "2    신규          18.0           1.0           4.0           1.0           0.0   \n",
       "\n",
       "   2020. 02. 09  2020. 02. 10  2020. 02. 11  2020. 02. 12  ...  2020. 10. 22  \\\n",
       "0           NaN           NaN           NaN           NaN  ...            17   \n",
       "1           NaN           NaN           NaN           NaN  ...           104   \n",
       "2           3.0           0.0           1.0           0.0  ...           121   \n",
       "\n",
       "   2020. 10. 23  2020. 10. 24  2020. 10. 25  2020. 10. 26  2020. 10. 27  \\\n",
       "0            17            11            11            25            16   \n",
       "1           138            66            50            94            72   \n",
       "2           155            77            61           119            88   \n",
       "\n",
       "   2020. 10. 28  2020. 10. 29  2020. 10. 30  2020. 10. 31  \n",
       "0             7            19            21            31  \n",
       "1            96           106            93            96  \n",
       "2           103           125           114           127  \n",
       "\n",
       "[3 rows x 272 columns]"
      ]
     },
     "execution_count": 4,
     "metadata": {},
     "output_type": "execute_result"
    }
   ],
   "source": [
    "corona = pd.read_csv('https://github.com/sagelab4data/HyundaiHigh_1/blob/main/Day2_corona_cases_SK.csv?raw=true', \n",
    "                     encoding='euc-kr')\n",
    "corona"
   ]
  },
  {
   "cell_type": "code",
   "execution_count": 5,
   "metadata": {},
   "outputs": [
    {
     "data": {
      "text/plain": [
       "pandas.core.frame.DataFrame"
      ]
     },
     "execution_count": 5,
     "metadata": {},
     "output_type": "execute_result"
    }
   ],
   "source": [
    "# corona의 타입을 확이해보면 데이터프레임을 알 수 있습니다.\n",
    "\n",
    "type(corona)"
   ]
  },
  {
   "cell_type": "code",
   "execution_count": null,
   "metadata": {},
   "outputs": [],
   "source": []
  },
  {
   "cell_type": "markdown",
   "metadata": {},
   "source": [
    "### corona 데이터프레임 개요"
   ]
  },
  {
   "cell_type": "code",
   "execution_count": 6,
   "metadata": {},
   "outputs": [
    {
     "data": {
      "text/plain": [
       "(3, 272)"
      ]
     },
     "execution_count": 6,
     "metadata": {},
     "output_type": "execute_result"
    }
   ],
   "source": [
    "# 데이터프레임이 가지고 있는 행과 열의 개수\n",
    "\n",
    "corona.shape"
   ]
  },
  {
   "cell_type": "code",
   "execution_count": null,
   "metadata": {},
   "outputs": [],
   "source": []
  },
  {
   "cell_type": "code",
   "execution_count": 7,
   "metadata": {},
   "outputs": [
    {
     "data": {
      "text/plain": [
       "816"
      ]
     },
     "execution_count": 7,
     "metadata": {},
     "output_type": "execute_result"
    }
   ],
   "source": [
    "# 데이터프레임이 가지고 있는 데이터의 전체 개수\n",
    "\n",
    "corona.size"
   ]
  },
  {
   "cell_type": "code",
   "execution_count": null,
   "metadata": {},
   "outputs": [],
   "source": []
  },
  {
   "cell_type": "markdown",
   "metadata": {},
   "source": [
    "### 데이터 프레임 생성하기 : 값을 직접 입력\n",
    "   - pd.DataFrame( ) 명령으로 직접 데이터프레임을 생성하기\n",
    "   - 대소문자에 주의   - 직접 입력하여 연습해봅시다."
   ]
  },
  {
   "cell_type": "code",
   "execution_count": 10,
   "metadata": {},
   "outputs": [
    {
     "data": {
      "text/html": [
       "<div>\n",
       "<style scoped>\n",
       "    .dataframe tbody tr th:only-of-type {\n",
       "        vertical-align: middle;\n",
       "    }\n",
       "\n",
       "    .dataframe tbody tr th {\n",
       "        vertical-align: top;\n",
       "    }\n",
       "\n",
       "    .dataframe thead th {\n",
       "        text-align: right;\n",
       "    }\n",
       "</style>\n",
       "<table border=\"1\" class=\"dataframe\">\n",
       "  <thead>\n",
       "    <tr style=\"text-align: right;\">\n",
       "      <th></th>\n",
       "      <th>0</th>\n",
       "    </tr>\n",
       "  </thead>\n",
       "  <tbody>\n",
       "    <tr>\n",
       "      <td>0</td>\n",
       "      <td>1</td>\n",
       "    </tr>\n",
       "    <tr>\n",
       "      <td>1</td>\n",
       "      <td>2</td>\n",
       "    </tr>\n",
       "  </tbody>\n",
       "</table>\n",
       "</div>"
      ],
      "text/plain": [
       "   0\n",
       "0  1\n",
       "1  2"
      ]
     },
     "execution_count": 10,
     "metadata": {},
     "output_type": "execute_result"
    }
   ],
   "source": [
    "df1 = pd.DataFrame([1, 2])\n",
    "df1"
   ]
  },
  {
   "cell_type": "code",
   "execution_count": null,
   "metadata": {},
   "outputs": [],
   "source": []
  },
  {
   "cell_type": "code",
   "execution_count": 11,
   "metadata": {},
   "outputs": [
    {
     "data": {
      "text/html": [
       "<div>\n",
       "<style scoped>\n",
       "    .dataframe tbody tr th:only-of-type {\n",
       "        vertical-align: middle;\n",
       "    }\n",
       "\n",
       "    .dataframe tbody tr th {\n",
       "        vertical-align: top;\n",
       "    }\n",
       "\n",
       "    .dataframe thead th {\n",
       "        text-align: right;\n",
       "    }\n",
       "</style>\n",
       "<table border=\"1\" class=\"dataframe\">\n",
       "  <thead>\n",
       "    <tr style=\"text-align: right;\">\n",
       "      <th></th>\n",
       "      <th>0</th>\n",
       "      <th>1</th>\n",
       "    </tr>\n",
       "  </thead>\n",
       "  <tbody>\n",
       "    <tr>\n",
       "      <td>0</td>\n",
       "      <td>1</td>\n",
       "      <td>2</td>\n",
       "    </tr>\n",
       "    <tr>\n",
       "      <td>1</td>\n",
       "      <td>3</td>\n",
       "      <td>4</td>\n",
       "    </tr>\n",
       "  </tbody>\n",
       "</table>\n",
       "</div>"
      ],
      "text/plain": [
       "   0  1\n",
       "0  1  2\n",
       "1  3  4"
      ]
     },
     "execution_count": 11,
     "metadata": {},
     "output_type": "execute_result"
    }
   ],
   "source": [
    "df2 = pd.DataFrame([ [1, 2], [3, 4] ])\n",
    "df2"
   ]
  },
  {
   "cell_type": "code",
   "execution_count": null,
   "metadata": {},
   "outputs": [],
   "source": []
  },
  {
   "cell_type": "markdown",
   "metadata": {},
   "source": [
    "# **데이터 가공**"
   ]
  },
  {
   "cell_type": "markdown",
   "metadata": {},
   "source": [
    "### 인덱스 변경"
   ]
  },
  {
   "cell_type": "code",
   "execution_count": 9,
   "metadata": {},
   "outputs": [
    {
     "data": {
      "text/plain": [
       "RangeIndex(start=0, stop=3, step=1)"
      ]
     },
     "execution_count": 9,
     "metadata": {},
     "output_type": "execute_result"
    }
   ],
   "source": [
    "# corona 데이터프레임의 인덱스\n",
    "\n",
    "corona.index"
   ]
  },
  {
   "cell_type": "code",
   "execution_count": null,
   "metadata": {},
   "outputs": [],
   "source": []
  },
  {
   "cell_type": "code",
   "execution_count": 10,
   "metadata": {},
   "outputs": [
    {
     "data": {
      "text/plain": [
       "Index(['상태별', '2020. 02. 04', '2020. 02. 05', '2020. 02. 06', '2020. 02. 07',\n",
       "       '2020. 02. 08', '2020. 02. 09', '2020. 02. 10', '2020. 02. 11',\n",
       "       '2020. 02. 12',\n",
       "       ...\n",
       "       '2020. 10. 22', '2020. 10. 23', '2020. 10. 24', '2020. 10. 25',\n",
       "       '2020. 10. 26', '2020. 10. 27', '2020. 10. 28', '2020. 10. 29',\n",
       "       '2020. 10. 30', '2020. 10. 31'],\n",
       "      dtype='object', length=272)"
      ]
     },
     "execution_count": 10,
     "metadata": {},
     "output_type": "execute_result"
    }
   ],
   "source": [
    "# corona 데이터프레임의 컬럼을 알아봅시다.\n",
    "\n",
    "corona.columns"
   ]
  },
  {
   "cell_type": "code",
   "execution_count": null,
   "metadata": {},
   "outputs": [],
   "source": []
  },
  {
   "cell_type": "code",
   "execution_count": 15,
   "metadata": {},
   "outputs": [
    {
     "data": {
      "text/html": [
       "<div>\n",
       "<style scoped>\n",
       "    .dataframe tbody tr th:only-of-type {\n",
       "        vertical-align: middle;\n",
       "    }\n",
       "\n",
       "    .dataframe tbody tr th {\n",
       "        vertical-align: top;\n",
       "    }\n",
       "\n",
       "    .dataframe thead th {\n",
       "        text-align: right;\n",
       "    }\n",
       "</style>\n",
       "<table border=\"1\" class=\"dataframe\">\n",
       "  <thead>\n",
       "    <tr style=\"text-align: right;\">\n",
       "      <th></th>\n",
       "      <th>2020. 02. 04</th>\n",
       "      <th>2020. 02. 05</th>\n",
       "      <th>2020. 02. 06</th>\n",
       "      <th>2020. 02. 07</th>\n",
       "      <th>2020. 02. 08</th>\n",
       "      <th>2020. 02. 09</th>\n",
       "      <th>2020. 02. 10</th>\n",
       "      <th>2020. 02. 11</th>\n",
       "      <th>2020. 02. 12</th>\n",
       "      <th>2020. 02. 13</th>\n",
       "      <th>...</th>\n",
       "      <th>2020. 10. 22</th>\n",
       "      <th>2020. 10. 23</th>\n",
       "      <th>2020. 10. 24</th>\n",
       "      <th>2020. 10. 25</th>\n",
       "      <th>2020. 10. 26</th>\n",
       "      <th>2020. 10. 27</th>\n",
       "      <th>2020. 10. 28</th>\n",
       "      <th>2020. 10. 29</th>\n",
       "      <th>2020. 10. 30</th>\n",
       "      <th>2020. 10. 31</th>\n",
       "    </tr>\n",
       "    <tr>\n",
       "      <th>상태별</th>\n",
       "      <th></th>\n",
       "      <th></th>\n",
       "      <th></th>\n",
       "      <th></th>\n",
       "      <th></th>\n",
       "      <th></th>\n",
       "      <th></th>\n",
       "      <th></th>\n",
       "      <th></th>\n",
       "      <th></th>\n",
       "      <th></th>\n",
       "      <th></th>\n",
       "      <th></th>\n",
       "      <th></th>\n",
       "      <th></th>\n",
       "      <th></th>\n",
       "      <th></th>\n",
       "      <th></th>\n",
       "      <th></th>\n",
       "      <th></th>\n",
       "      <th></th>\n",
       "    </tr>\n",
       "  </thead>\n",
       "  <tbody>\n",
       "    <tr>\n",
       "      <td>해외유입</td>\n",
       "      <td>NaN</td>\n",
       "      <td>NaN</td>\n",
       "      <td>NaN</td>\n",
       "      <td>NaN</td>\n",
       "      <td>NaN</td>\n",
       "      <td>NaN</td>\n",
       "      <td>NaN</td>\n",
       "      <td>NaN</td>\n",
       "      <td>NaN</td>\n",
       "      <td>NaN</td>\n",
       "      <td>...</td>\n",
       "      <td>17</td>\n",
       "      <td>17</td>\n",
       "      <td>11</td>\n",
       "      <td>11</td>\n",
       "      <td>25</td>\n",
       "      <td>16</td>\n",
       "      <td>7</td>\n",
       "      <td>19</td>\n",
       "      <td>21</td>\n",
       "      <td>31</td>\n",
       "    </tr>\n",
       "    <tr>\n",
       "      <td>국내발생</td>\n",
       "      <td>NaN</td>\n",
       "      <td>NaN</td>\n",
       "      <td>NaN</td>\n",
       "      <td>NaN</td>\n",
       "      <td>NaN</td>\n",
       "      <td>NaN</td>\n",
       "      <td>NaN</td>\n",
       "      <td>NaN</td>\n",
       "      <td>NaN</td>\n",
       "      <td>NaN</td>\n",
       "      <td>...</td>\n",
       "      <td>104</td>\n",
       "      <td>138</td>\n",
       "      <td>66</td>\n",
       "      <td>50</td>\n",
       "      <td>94</td>\n",
       "      <td>72</td>\n",
       "      <td>96</td>\n",
       "      <td>106</td>\n",
       "      <td>93</td>\n",
       "      <td>96</td>\n",
       "    </tr>\n",
       "    <tr>\n",
       "      <td>신규</td>\n",
       "      <td>18.0</td>\n",
       "      <td>1.0</td>\n",
       "      <td>4.0</td>\n",
       "      <td>1.0</td>\n",
       "      <td>0.0</td>\n",
       "      <td>3.0</td>\n",
       "      <td>0.0</td>\n",
       "      <td>1.0</td>\n",
       "      <td>0.0</td>\n",
       "      <td>0.0</td>\n",
       "      <td>...</td>\n",
       "      <td>121</td>\n",
       "      <td>155</td>\n",
       "      <td>77</td>\n",
       "      <td>61</td>\n",
       "      <td>119</td>\n",
       "      <td>88</td>\n",
       "      <td>103</td>\n",
       "      <td>125</td>\n",
       "      <td>114</td>\n",
       "      <td>127</td>\n",
       "    </tr>\n",
       "  </tbody>\n",
       "</table>\n",
       "<p>3 rows × 271 columns</p>\n",
       "</div>"
      ],
      "text/plain": [
       "      2020. 02. 04  2020. 02. 05  2020. 02. 06  2020. 02. 07  2020. 02. 08  \\\n",
       "상태별                                                                          \n",
       "해외유입           NaN           NaN           NaN           NaN           NaN   \n",
       "국내발생           NaN           NaN           NaN           NaN           NaN   \n",
       "신규            18.0           1.0           4.0           1.0           0.0   \n",
       "\n",
       "      2020. 02. 09  2020. 02. 10  2020. 02. 11  2020. 02. 12  2020. 02. 13  \\\n",
       "상태별                                                                          \n",
       "해외유입           NaN           NaN           NaN           NaN           NaN   \n",
       "국내발생           NaN           NaN           NaN           NaN           NaN   \n",
       "신규             3.0           0.0           1.0           0.0           0.0   \n",
       "\n",
       "      ...  2020. 10. 22  2020. 10. 23  2020. 10. 24  2020. 10. 25  \\\n",
       "상태별   ...                                                           \n",
       "해외유입  ...            17            17            11            11   \n",
       "국내발생  ...           104           138            66            50   \n",
       "신규    ...           121           155            77            61   \n",
       "\n",
       "      2020. 10. 26  2020. 10. 27  2020. 10. 28  2020. 10. 29  2020. 10. 30  \\\n",
       "상태별                                                                          \n",
       "해외유입            25            16             7            19            21   \n",
       "국내발생            94            72            96           106            93   \n",
       "신규             119            88           103           125           114   \n",
       "\n",
       "      2020. 10. 31  \n",
       "상태별                 \n",
       "해외유입            31  \n",
       "국내발생            96  \n",
       "신규             127  \n",
       "\n",
       "[3 rows x 271 columns]"
      ]
     },
     "execution_count": 15,
     "metadata": {},
     "output_type": "execute_result"
    }
   ],
   "source": [
    "# 데이터를 분석하기 좋게 '상태별' 컬럼을 인덱스로 세팅합니다.\n",
    "# 분석을 간단하게 하기 위해 중간 단계 변수인 corona1을 사용합니다.\n",
    "\n",
    "corona1 = corona.set_index('상태별')\n",
    "corona1"
   ]
  },
  {
   "cell_type": "code",
   "execution_count": null,
   "metadata": {},
   "outputs": [],
   "source": []
  },
  {
   "cell_type": "code",
   "execution_count": 16,
   "metadata": {},
   "outputs": [
    {
     "data": {
      "text/plain": [
       "Index(['해외유입', '국내발생', '신규'], dtype='object', name='상태별')"
      ]
     },
     "execution_count": 16,
     "metadata": {},
     "output_type": "execute_result"
    }
   ],
   "source": [
    "# 변경된 인덱스를 확인합니다.\n",
    "\n",
    "corona1.index"
   ]
  },
  {
   "cell_type": "code",
   "execution_count": null,
   "metadata": {},
   "outputs": [],
   "source": []
  },
  {
   "cell_type": "markdown",
   "metadata": {},
   "source": [
    "### 컬럼 자료형 변경"
   ]
  },
  {
   "cell_type": "code",
   "execution_count": 19,
   "metadata": {},
   "outputs": [
    {
     "data": {
      "text/plain": [
       "Index(['2020. 02. 04', '2020. 02. 05', '2020. 02. 06', '2020. 02. 07',\n",
       "       '2020. 02. 08', '2020. 02. 09', '2020. 02. 10', '2020. 02. 11',\n",
       "       '2020. 02. 12', '2020. 02. 13',\n",
       "       ...\n",
       "       '2020. 10. 22', '2020. 10. 23', '2020. 10. 24', '2020. 10. 25',\n",
       "       '2020. 10. 26', '2020. 10. 27', '2020. 10. 28', '2020. 10. 29',\n",
       "       '2020. 10. 30', '2020. 10. 31'],\n",
       "      dtype='object', length=271)"
      ]
     },
     "execution_count": 19,
     "metadata": {},
     "output_type": "execute_result"
    }
   ],
   "source": [
    "# corona1 데이터프레임은 '상태별' 컬럼이 (인덱스가 되어) 현재 컬럼에 없습니다.\n",
    "\n",
    "corona1.columns"
   ]
  },
  {
   "cell_type": "code",
   "execution_count": null,
   "metadata": {},
   "outputs": [],
   "source": []
  },
  {
   "cell_type": "code",
   "execution_count": 22,
   "metadata": {},
   "outputs": [
    {
     "data": {
      "text/plain": [
       "DatetimeIndex(['2020-02-04', '2020-02-05', '2020-02-06', '2020-02-07',\n",
       "               '2020-02-08', '2020-02-09', '2020-02-10', '2020-02-11',\n",
       "               '2020-02-12', '2020-02-13',\n",
       "               ...\n",
       "               '2020-10-22', '2020-10-23', '2020-10-24', '2020-10-25',\n",
       "               '2020-10-26', '2020-10-27', '2020-10-28', '2020-10-29',\n",
       "               '2020-10-30', '2020-10-31'],\n",
       "              dtype='datetime64[ns]', length=271, freq=None)"
      ]
     },
     "execution_count": 22,
     "metadata": {},
     "output_type": "execute_result"
    }
   ],
   "source": [
    "# corona1의 컬럼은 문자(object) 타입입니다. datetime64로 바꾸어 줍니다.\n",
    "\n",
    "corona1.columns = pd.to_datetime(corona1.columns)\n",
    "corona1.columns"
   ]
  },
  {
   "cell_type": "code",
   "execution_count": null,
   "metadata": {},
   "outputs": [],
   "source": []
  },
  {
   "cell_type": "markdown",
   "metadata": {},
   "source": [
    "### 행과 열 바꾸기"
   ]
  },
  {
   "cell_type": "code",
   "execution_count": 25,
   "metadata": {},
   "outputs": [
    {
     "data": {
      "text/html": [
       "<div>\n",
       "<style scoped>\n",
       "    .dataframe tbody tr th:only-of-type {\n",
       "        vertical-align: middle;\n",
       "    }\n",
       "\n",
       "    .dataframe tbody tr th {\n",
       "        vertical-align: top;\n",
       "    }\n",
       "\n",
       "    .dataframe thead th {\n",
       "        text-align: right;\n",
       "    }\n",
       "</style>\n",
       "<table border=\"1\" class=\"dataframe\">\n",
       "  <thead>\n",
       "    <tr style=\"text-align: right;\">\n",
       "      <th></th>\n",
       "      <th>2020-02-04</th>\n",
       "      <th>2020-02-05</th>\n",
       "      <th>2020-02-06</th>\n",
       "      <th>2020-02-07</th>\n",
       "      <th>2020-02-08</th>\n",
       "      <th>2020-02-09</th>\n",
       "      <th>2020-02-10</th>\n",
       "      <th>2020-02-11</th>\n",
       "      <th>2020-02-12</th>\n",
       "      <th>2020-02-13</th>\n",
       "      <th>...</th>\n",
       "      <th>2020-10-22</th>\n",
       "      <th>2020-10-23</th>\n",
       "      <th>2020-10-24</th>\n",
       "      <th>2020-10-25</th>\n",
       "      <th>2020-10-26</th>\n",
       "      <th>2020-10-27</th>\n",
       "      <th>2020-10-28</th>\n",
       "      <th>2020-10-29</th>\n",
       "      <th>2020-10-30</th>\n",
       "      <th>2020-10-31</th>\n",
       "    </tr>\n",
       "    <tr>\n",
       "      <th>상태별</th>\n",
       "      <th></th>\n",
       "      <th></th>\n",
       "      <th></th>\n",
       "      <th></th>\n",
       "      <th></th>\n",
       "      <th></th>\n",
       "      <th></th>\n",
       "      <th></th>\n",
       "      <th></th>\n",
       "      <th></th>\n",
       "      <th></th>\n",
       "      <th></th>\n",
       "      <th></th>\n",
       "      <th></th>\n",
       "      <th></th>\n",
       "      <th></th>\n",
       "      <th></th>\n",
       "      <th></th>\n",
       "      <th></th>\n",
       "      <th></th>\n",
       "      <th></th>\n",
       "    </tr>\n",
       "  </thead>\n",
       "  <tbody>\n",
       "    <tr>\n",
       "      <td>해외유입</td>\n",
       "      <td>NaN</td>\n",
       "      <td>NaN</td>\n",
       "      <td>NaN</td>\n",
       "      <td>NaN</td>\n",
       "      <td>NaN</td>\n",
       "      <td>NaN</td>\n",
       "      <td>NaN</td>\n",
       "      <td>NaN</td>\n",
       "      <td>NaN</td>\n",
       "      <td>NaN</td>\n",
       "      <td>...</td>\n",
       "      <td>17</td>\n",
       "      <td>17</td>\n",
       "      <td>11</td>\n",
       "      <td>11</td>\n",
       "      <td>25</td>\n",
       "      <td>16</td>\n",
       "      <td>7</td>\n",
       "      <td>19</td>\n",
       "      <td>21</td>\n",
       "      <td>31</td>\n",
       "    </tr>\n",
       "    <tr>\n",
       "      <td>국내발생</td>\n",
       "      <td>NaN</td>\n",
       "      <td>NaN</td>\n",
       "      <td>NaN</td>\n",
       "      <td>NaN</td>\n",
       "      <td>NaN</td>\n",
       "      <td>NaN</td>\n",
       "      <td>NaN</td>\n",
       "      <td>NaN</td>\n",
       "      <td>NaN</td>\n",
       "      <td>NaN</td>\n",
       "      <td>...</td>\n",
       "      <td>104</td>\n",
       "      <td>138</td>\n",
       "      <td>66</td>\n",
       "      <td>50</td>\n",
       "      <td>94</td>\n",
       "      <td>72</td>\n",
       "      <td>96</td>\n",
       "      <td>106</td>\n",
       "      <td>93</td>\n",
       "      <td>96</td>\n",
       "    </tr>\n",
       "    <tr>\n",
       "      <td>신규</td>\n",
       "      <td>18.0</td>\n",
       "      <td>1.0</td>\n",
       "      <td>4.0</td>\n",
       "      <td>1.0</td>\n",
       "      <td>0.0</td>\n",
       "      <td>3.0</td>\n",
       "      <td>0.0</td>\n",
       "      <td>1.0</td>\n",
       "      <td>0.0</td>\n",
       "      <td>0.0</td>\n",
       "      <td>...</td>\n",
       "      <td>121</td>\n",
       "      <td>155</td>\n",
       "      <td>77</td>\n",
       "      <td>61</td>\n",
       "      <td>119</td>\n",
       "      <td>88</td>\n",
       "      <td>103</td>\n",
       "      <td>125</td>\n",
       "      <td>114</td>\n",
       "      <td>127</td>\n",
       "    </tr>\n",
       "  </tbody>\n",
       "</table>\n",
       "<p>3 rows × 271 columns</p>\n",
       "</div>"
      ],
      "text/plain": [
       "      2020-02-04  2020-02-05  2020-02-06  2020-02-07  2020-02-08  2020-02-09  \\\n",
       "상태별                                                                            \n",
       "해외유입         NaN         NaN         NaN         NaN         NaN         NaN   \n",
       "국내발생         NaN         NaN         NaN         NaN         NaN         NaN   \n",
       "신규          18.0         1.0         4.0         1.0         0.0         3.0   \n",
       "\n",
       "      2020-02-10  2020-02-11  2020-02-12  2020-02-13  ...  2020-10-22  \\\n",
       "상태별                                                   ...               \n",
       "해외유입         NaN         NaN         NaN         NaN  ...          17   \n",
       "국내발생         NaN         NaN         NaN         NaN  ...         104   \n",
       "신규           0.0         1.0         0.0         0.0  ...         121   \n",
       "\n",
       "      2020-10-23  2020-10-24  2020-10-25  2020-10-26  2020-10-27  2020-10-28  \\\n",
       "상태별                                                                            \n",
       "해외유입          17          11          11          25          16           7   \n",
       "국내발생         138          66          50          94          72          96   \n",
       "신규           155          77          61         119          88         103   \n",
       "\n",
       "      2020-10-29  2020-10-30  2020-10-31  \n",
       "상태별                                       \n",
       "해외유입          19          21          31  \n",
       "국내발생         106          93          96  \n",
       "신규           125         114         127  \n",
       "\n",
       "[3 rows x 271 columns]"
      ]
     },
     "execution_count": 25,
     "metadata": {},
     "output_type": "execute_result"
    }
   ],
   "source": [
    "corona1"
   ]
  },
  {
   "cell_type": "code",
   "execution_count": null,
   "metadata": {},
   "outputs": [],
   "source": []
  },
  {
   "cell_type": "code",
   "execution_count": 26,
   "metadata": {},
   "outputs": [
    {
     "data": {
      "text/html": [
       "<div>\n",
       "<style scoped>\n",
       "    .dataframe tbody tr th:only-of-type {\n",
       "        vertical-align: middle;\n",
       "    }\n",
       "\n",
       "    .dataframe tbody tr th {\n",
       "        vertical-align: top;\n",
       "    }\n",
       "\n",
       "    .dataframe thead th {\n",
       "        text-align: right;\n",
       "    }\n",
       "</style>\n",
       "<table border=\"1\" class=\"dataframe\">\n",
       "  <thead>\n",
       "    <tr style=\"text-align: right;\">\n",
       "      <th>상태별</th>\n",
       "      <th>해외유입</th>\n",
       "      <th>국내발생</th>\n",
       "      <th>신규</th>\n",
       "    </tr>\n",
       "  </thead>\n",
       "  <tbody>\n",
       "    <tr>\n",
       "      <td>2020-02-04</td>\n",
       "      <td>NaN</td>\n",
       "      <td>NaN</td>\n",
       "      <td>18.0</td>\n",
       "    </tr>\n",
       "    <tr>\n",
       "      <td>2020-02-05</td>\n",
       "      <td>NaN</td>\n",
       "      <td>NaN</td>\n",
       "      <td>1.0</td>\n",
       "    </tr>\n",
       "    <tr>\n",
       "      <td>2020-02-06</td>\n",
       "      <td>NaN</td>\n",
       "      <td>NaN</td>\n",
       "      <td>4.0</td>\n",
       "    </tr>\n",
       "    <tr>\n",
       "      <td>2020-02-07</td>\n",
       "      <td>NaN</td>\n",
       "      <td>NaN</td>\n",
       "      <td>1.0</td>\n",
       "    </tr>\n",
       "    <tr>\n",
       "      <td>2020-02-08</td>\n",
       "      <td>NaN</td>\n",
       "      <td>NaN</td>\n",
       "      <td>0.0</td>\n",
       "    </tr>\n",
       "    <tr>\n",
       "      <td>...</td>\n",
       "      <td>...</td>\n",
       "      <td>...</td>\n",
       "      <td>...</td>\n",
       "    </tr>\n",
       "    <tr>\n",
       "      <td>2020-10-27</td>\n",
       "      <td>16.0</td>\n",
       "      <td>72.0</td>\n",
       "      <td>88.0</td>\n",
       "    </tr>\n",
       "    <tr>\n",
       "      <td>2020-10-28</td>\n",
       "      <td>7.0</td>\n",
       "      <td>96.0</td>\n",
       "      <td>103.0</td>\n",
       "    </tr>\n",
       "    <tr>\n",
       "      <td>2020-10-29</td>\n",
       "      <td>19.0</td>\n",
       "      <td>106.0</td>\n",
       "      <td>125.0</td>\n",
       "    </tr>\n",
       "    <tr>\n",
       "      <td>2020-10-30</td>\n",
       "      <td>21.0</td>\n",
       "      <td>93.0</td>\n",
       "      <td>114.0</td>\n",
       "    </tr>\n",
       "    <tr>\n",
       "      <td>2020-10-31</td>\n",
       "      <td>31.0</td>\n",
       "      <td>96.0</td>\n",
       "      <td>127.0</td>\n",
       "    </tr>\n",
       "  </tbody>\n",
       "</table>\n",
       "<p>271 rows × 3 columns</p>\n",
       "</div>"
      ],
      "text/plain": [
       "상태별         해외유입   국내발생     신규\n",
       "2020-02-04   NaN    NaN   18.0\n",
       "2020-02-05   NaN    NaN    1.0\n",
       "2020-02-06   NaN    NaN    4.0\n",
       "2020-02-07   NaN    NaN    1.0\n",
       "2020-02-08   NaN    NaN    0.0\n",
       "...          ...    ...    ...\n",
       "2020-10-27  16.0   72.0   88.0\n",
       "2020-10-28   7.0   96.0  103.0\n",
       "2020-10-29  19.0  106.0  125.0\n",
       "2020-10-30  21.0   93.0  114.0\n",
       "2020-10-31  31.0   96.0  127.0\n",
       "\n",
       "[271 rows x 3 columns]"
      ]
     },
     "execution_count": 26,
     "metadata": {},
     "output_type": "execute_result"
    }
   ],
   "source": [
    "corona2 = corona1.T\n",
    "corona2"
   ]
  },
  {
   "cell_type": "code",
   "execution_count": null,
   "metadata": {},
   "outputs": [],
   "source": []
  },
  {
   "cell_type": "markdown",
   "metadata": {
    "colab_type": "text",
    "id": "0RS62YC4rMUj"
   },
   "source": [
    "### 열 단위 데이터 추출하기"
   ]
  },
  {
   "cell_type": "code",
   "execution_count": null,
   "metadata": {},
   "outputs": [],
   "source": []
  },
  {
   "cell_type": "code",
   "execution_count": 29,
   "metadata": {},
   "outputs": [
    {
     "data": {
      "text/plain": [
       "2020-02-04     18.0\n",
       "2020-02-05      1.0\n",
       "2020-02-06      4.0\n",
       "2020-02-07      1.0\n",
       "2020-02-08      0.0\n",
       "              ...  \n",
       "2020-10-27     88.0\n",
       "2020-10-28    103.0\n",
       "2020-10-29    125.0\n",
       "2020-10-30    114.0\n",
       "2020-10-31    127.0\n",
       "Name: 신규, Length: 271, dtype: float64"
      ]
     },
     "execution_count": 29,
     "metadata": {},
     "output_type": "execute_result"
    }
   ],
   "source": [
    "corona_new = corona2['신규']\n",
    "corona_new"
   ]
  },
  {
   "cell_type": "code",
   "execution_count": null,
   "metadata": {},
   "outputs": [],
   "source": []
  },
  {
   "cell_type": "code",
   "execution_count": 38,
   "metadata": {},
   "outputs": [
    {
     "data": {
      "text/html": [
       "<div>\n",
       "<style scoped>\n",
       "    .dataframe tbody tr th:only-of-type {\n",
       "        vertical-align: middle;\n",
       "    }\n",
       "\n",
       "    .dataframe tbody tr th {\n",
       "        vertical-align: top;\n",
       "    }\n",
       "\n",
       "    .dataframe thead th {\n",
       "        text-align: right;\n",
       "    }\n",
       "</style>\n",
       "<table border=\"1\" class=\"dataframe\">\n",
       "  <thead>\n",
       "    <tr style=\"text-align: right;\">\n",
       "      <th>상태별</th>\n",
       "      <th>해외유입</th>\n",
       "      <th>국내발생</th>\n",
       "    </tr>\n",
       "  </thead>\n",
       "  <tbody>\n",
       "    <tr>\n",
       "      <td>2020-02-04</td>\n",
       "      <td>NaN</td>\n",
       "      <td>NaN</td>\n",
       "    </tr>\n",
       "    <tr>\n",
       "      <td>2020-02-05</td>\n",
       "      <td>NaN</td>\n",
       "      <td>NaN</td>\n",
       "    </tr>\n",
       "    <tr>\n",
       "      <td>2020-02-06</td>\n",
       "      <td>NaN</td>\n",
       "      <td>NaN</td>\n",
       "    </tr>\n",
       "    <tr>\n",
       "      <td>2020-02-07</td>\n",
       "      <td>NaN</td>\n",
       "      <td>NaN</td>\n",
       "    </tr>\n",
       "    <tr>\n",
       "      <td>2020-02-08</td>\n",
       "      <td>NaN</td>\n",
       "      <td>NaN</td>\n",
       "    </tr>\n",
       "    <tr>\n",
       "      <td>...</td>\n",
       "      <td>...</td>\n",
       "      <td>...</td>\n",
       "    </tr>\n",
       "    <tr>\n",
       "      <td>2020-10-27</td>\n",
       "      <td>16.0</td>\n",
       "      <td>72.0</td>\n",
       "    </tr>\n",
       "    <tr>\n",
       "      <td>2020-10-28</td>\n",
       "      <td>7.0</td>\n",
       "      <td>96.0</td>\n",
       "    </tr>\n",
       "    <tr>\n",
       "      <td>2020-10-29</td>\n",
       "      <td>19.0</td>\n",
       "      <td>106.0</td>\n",
       "    </tr>\n",
       "    <tr>\n",
       "      <td>2020-10-30</td>\n",
       "      <td>21.0</td>\n",
       "      <td>93.0</td>\n",
       "    </tr>\n",
       "    <tr>\n",
       "      <td>2020-10-31</td>\n",
       "      <td>31.0</td>\n",
       "      <td>96.0</td>\n",
       "    </tr>\n",
       "  </tbody>\n",
       "</table>\n",
       "<p>271 rows × 2 columns</p>\n",
       "</div>"
      ],
      "text/plain": [
       "상태별         해외유입   국내발생\n",
       "2020-02-04   NaN    NaN\n",
       "2020-02-05   NaN    NaN\n",
       "2020-02-06   NaN    NaN\n",
       "2020-02-07   NaN    NaN\n",
       "2020-02-08   NaN    NaN\n",
       "...          ...    ...\n",
       "2020-10-27  16.0   72.0\n",
       "2020-10-28   7.0   96.0\n",
       "2020-10-29  19.0  106.0\n",
       "2020-10-30  21.0   93.0\n",
       "2020-10-31  31.0   96.0\n",
       "\n",
       "[271 rows x 2 columns]"
      ]
     },
     "execution_count": 38,
     "metadata": {},
     "output_type": "execute_result"
    }
   ],
   "source": [
    "corona_cause = corona2[['해외유입', '국내발생']]\n",
    "corona_cause"
   ]
  },
  {
   "cell_type": "code",
   "execution_count": null,
   "metadata": {},
   "outputs": [],
   "source": []
  },
  {
   "cell_type": "code",
   "execution_count": 31,
   "metadata": {},
   "outputs": [
    {
     "data": {
      "image/png": "[encoded data removed]",
      "text/plain": [
       "<Figure size 432x288 with 1 Axes>"
      ]
     },
     "metadata": {
      "needs_background": "light"
     },
     "output_type": "display_data"
    }
   ],
   "source": [
    "corona_new.plot();"
   ]
  },
  {
   "cell_type": "code",
   "execution_count": null,
   "metadata": {},
   "outputs": [],
   "source": []
  },
  {
   "cell_type": "markdown",
   "metadata": {},
   "source": [
    "# **데이터 분석**"
   ]
  },
  {
   "cell_type": "markdown",
   "metadata": {},
   "source": [
    "### 데이터 분석 개요"
   ]
  },
  {
   "cell_type": "code",
   "execution_count": 41,
   "metadata": {},
   "outputs": [
    {
     "data": {
      "text/plain": [
       "(271,)"
      ]
     },
     "execution_count": 41,
     "metadata": {},
     "output_type": "execute_result"
    }
   ],
   "source": [
    "# (271, ) : 전체 데이터가 271 행이 있고 열은 별도로\n",
    "\n",
    "corona_new.shape"
   ]
  },
  {
   "cell_type": "code",
   "execution_count": null,
   "metadata": {},
   "outputs": [],
   "source": []
  },
  {
   "cell_type": "code",
   "execution_count": 43,
   "metadata": {},
   "outputs": [
    {
     "data": {
      "text/plain": [
       "271"
      ]
     },
     "execution_count": 43,
     "metadata": {},
     "output_type": "execute_result"
    }
   ],
   "source": [
    "# 전체 데이터 개수\n",
    "\n",
    "corona_new.size"
   ]
  },
  {
   "cell_type": "code",
   "execution_count": null,
   "metadata": {},
   "outputs": [],
   "source": []
  },
  {
   "cell_type": "code",
   "execution_count": 33,
   "metadata": {},
   "outputs": [
    {
     "data": {
      "text/plain": [
       "2020-02-04    18.0\n",
       "2020-02-05     1.0\n",
       "2020-02-06     4.0\n",
       "2020-02-07     1.0\n",
       "2020-02-08     0.0\n",
       "Name: 신규, dtype: float64"
      ]
     },
     "execution_count": 33,
     "metadata": {},
     "output_type": "execute_result"
    }
   ],
   "source": [
    "corona_new.head()"
   ]
  },
  {
   "cell_type": "code",
   "execution_count": null,
   "metadata": {},
   "outputs": [],
   "source": []
  },
  {
   "cell_type": "code",
   "execution_count": 34,
   "metadata": {},
   "outputs": [
    {
     "data": {
      "text/plain": [
       "2020-10-27     88.0\n",
       "2020-10-28    103.0\n",
       "2020-10-29    125.0\n",
       "2020-10-30    114.0\n",
       "2020-10-31    127.0\n",
       "Name: 신규, dtype: float64"
      ]
     },
     "execution_count": 34,
     "metadata": {},
     "output_type": "execute_result"
    }
   ],
   "source": [
    "corona_new.tail()"
   ]
  },
  {
   "cell_type": "code",
   "execution_count": null,
   "metadata": {},
   "outputs": [],
   "source": []
  },
  {
   "cell_type": "markdown",
   "metadata": {},
   "source": [
    "### 데이터 기초 통계"
   ]
  },
  {
   "cell_type": "code",
   "execution_count": 44,
   "metadata": {},
   "outputs": [
    {
     "data": {
      "text/plain": [
       "0.0"
      ]
     },
     "execution_count": 44,
     "metadata": {},
     "output_type": "execute_result"
    }
   ],
   "source": [
    "corona_new.min()"
   ]
  },
  {
   "cell_type": "code",
   "execution_count": 45,
   "metadata": {},
   "outputs": [
    {
     "data": {
      "text/plain": [
       "813.0"
      ]
     },
     "execution_count": 45,
     "metadata": {},
     "output_type": "execute_result"
    }
   ],
   "source": [
    "corona_new.max()"
   ]
  },
  {
   "cell_type": "code",
   "execution_count": null,
   "metadata": {},
   "outputs": [],
   "source": []
  },
  {
   "cell_type": "code",
   "execution_count": 46,
   "metadata": {},
   "outputs": [
    {
     "data": {
      "text/plain": [
       "97.87822878228782"
      ]
     },
     "execution_count": 46,
     "metadata": {},
     "output_type": "execute_result"
    }
   ],
   "source": [
    "corona_new.mean()"
   ]
  },
  {
   "cell_type": "code",
   "execution_count": null,
   "metadata": {},
   "outputs": [],
   "source": []
  },
  {
   "cell_type": "code",
   "execution_count": 47,
   "metadata": {},
   "outputs": [
    {
     "data": {
      "text/plain": [
       "58.0"
      ]
     },
     "execution_count": 47,
     "metadata": {},
     "output_type": "execute_result"
    }
   ],
   "source": [
    "corona_new.median()"
   ]
  },
  {
   "cell_type": "code",
   "execution_count": null,
   "metadata": {},
   "outputs": [],
   "source": []
  },
  {
   "cell_type": "code",
   "execution_count": 59,
   "metadata": {},
   "outputs": [
    {
     "data": {
      "image/png": "[encoded data removed]",
      "text/plain": [
       "<Figure size 432x288 with 1 Axes>"
      ]
     },
     "metadata": {
      "needs_background": "light"
     },
     "output_type": "display_data"
    }
   ],
   "source": [
    "corona_new.hist();"
   ]
  },
  {
   "cell_type": "code",
   "execution_count": null,
   "metadata": {},
   "outputs": [],
   "source": []
  },
  {
   "cell_type": "code",
   "execution_count": 54,
   "metadata": {},
   "outputs": [
    {
     "data": {
      "image/png": "[encoded data removed]",
      "text/plain": [
       "<Figure size 432x288 with 1 Axes>"
      ]
     },
     "metadata": {
      "needs_background": "light"
     },
     "output_type": "display_data"
    }
   ],
   "source": [
    "corona_new.hist(bins=20);"
   ]
  },
  {
   "cell_type": "code",
   "execution_count": null,
   "metadata": {},
   "outputs": [],
   "source": []
  },
  {
   "cell_type": "markdown",
   "metadata": {},
   "source": [
    "### 데이터 정렬"
   ]
  },
  {
   "cell_type": "code",
   "execution_count": 61,
   "metadata": {},
   "outputs": [
    {
     "data": {
      "text/plain": [
       "2020-02-08      0.0\n",
       "2020-02-10      0.0\n",
       "2020-02-12      0.0\n",
       "2020-02-13      0.0\n",
       "2020-02-14      0.0\n",
       "              ...  \n",
       "2020-03-06    518.0\n",
       "2020-02-28    571.0\n",
       "2020-03-01    586.0\n",
       "2020-03-03    600.0\n",
       "2020-02-29    813.0\n",
       "Name: 신규, Length: 271, dtype: float64"
      ]
     },
     "execution_count": 61,
     "metadata": {},
     "output_type": "execute_result"
    }
   ],
   "source": [
    "corona_new.sort_values()"
   ]
  },
  {
   "cell_type": "code",
   "execution_count": null,
   "metadata": {},
   "outputs": [],
   "source": []
  },
  {
   "cell_type": "code",
   "execution_count": 62,
   "metadata": {},
   "outputs": [
    {
     "data": {
      "text/plain": [
       "2020-02-29    813.0\n",
       "2020-03-03    600.0\n",
       "2020-03-01    586.0\n",
       "2020-02-28    571.0\n",
       "2020-03-06    518.0\n",
       "              ...  \n",
       "2020-02-14      0.0\n",
       "2020-02-13      0.0\n",
       "2020-02-12      0.0\n",
       "2020-02-10      0.0\n",
       "2020-02-08      0.0\n",
       "Name: 신규, Length: 271, dtype: float64"
      ]
     },
     "execution_count": 62,
     "metadata": {},
     "output_type": "execute_result"
    }
   ],
   "source": [
    "corona_new.sort_values(ascending=False)"
   ]
  },
  {
   "cell_type": "code",
   "execution_count": null,
   "metadata": {},
   "outputs": [],
   "source": []
  },
  {
   "cell_type": "code",
   "execution_count": 67,
   "metadata": {},
   "outputs": [
    {
     "data": {
      "text/plain": [
       "2020-02-29    813.0\n",
       "2020-03-03    600.0\n",
       "2020-03-01    586.0\n",
       "2020-02-28    571.0\n",
       "2020-03-06    518.0\n",
       "Name: 신규, dtype: float64"
      ]
     },
     "execution_count": 67,
     "metadata": {},
     "output_type": "execute_result"
    }
   ],
   "source": [
    "corona_new.nlargest()"
   ]
  },
  {
   "cell_type": "code",
   "execution_count": null,
   "metadata": {},
   "outputs": [],
   "source": []
  },
  {
   "cell_type": "code",
   "execution_count": 68,
   "metadata": {},
   "outputs": [
    {
     "data": {
      "text/plain": [
       "2020-02-08    0.0\n",
       "2020-02-10    0.0\n",
       "2020-02-12    0.0\n",
       "2020-02-13    0.0\n",
       "2020-02-14    0.0\n",
       "Name: 신규, dtype: float64"
      ]
     },
     "execution_count": 68,
     "metadata": {},
     "output_type": "execute_result"
    }
   ],
   "source": [
    "corona_new.nsmallest()"
   ]
  },
  {
   "cell_type": "code",
   "execution_count": null,
   "metadata": {},
   "outputs": [],
   "source": []
  },
  {
   "cell_type": "markdown",
   "metadata": {},
   "source": [
    "# **데이터 시각화**"
   ]
  },
  {
   "cell_type": "code",
   "execution_count": 70,
   "metadata": {},
   "outputs": [],
   "source": [
    "import matplotlib.pyplot as plt\n",
    "plt.rc('font', family='Malgun Gothic')"
   ]
  },
  {
   "cell_type": "code",
   "execution_count": 72,
   "metadata": {},
   "outputs": [
    {
     "data": {
      "image/png": "[encoded data removed]",
      "text/plain": [
       "<Figure size 936x360 with 1 Axes>"
      ]
     },
     "metadata": {
      "needs_background": "light"
     },
     "output_type": "display_data"
    }
   ],
   "source": [
    "corona_new.plot(figsize=(13, 5), title='확진자 추이', fontsize=13, \n",
    "                color='green', grid=True, legend=True);"
   ]
  },
  {
   "cell_type": "code",
   "execution_count": null,
   "metadata": {},
   "outputs": [],
   "source": []
  }
 ],
 "metadata": {
  "kernelspec": {
   "display_name": "Python 3",
   "language": "python",
   "name": "python3"
  },
  "language_info": {
   "codemirror_mode": {
    "name": "ipython",
    "version": 3
   },
   "file_extension": ".py",
   "mimetype": "text/x-python",
   "name": "python",
   "nbconvert_exporter": "python",
   "pygments_lexer": "ipython3",
   "version": "3.7.4"
  }
 },
 "nbformat": 4,
 "nbformat_minor": 4
}
