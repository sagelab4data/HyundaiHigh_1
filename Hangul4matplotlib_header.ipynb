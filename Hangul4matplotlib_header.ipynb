{
 "cells": [
  {
   "cell_type": "markdown",
   "metadata": {
    "id": "94heZslpMcGw"
   },
   "source": [
    "# **사전준비 for windows**\n",
    "window 기본 폰트인 맑은고딕으로 설정한다. \n",
    "window에 설치된 jupyter notebook kernel에서 실행할 때 사용한다.\n",
    "(colab으로 진행할 경우에는 '사전준비 for colab' 만 실행하면 된다"
   ]
  },
  {
   "cell_type": "code",
   "execution_count": 1,
   "metadata": {
    "id": "xB0e99-Wy6kO"
   },
   "outputs": [],
   "source": [
    "# 관련 라이브러리 임포트\n",
    "import matplotlib.font_manager as fm  # 폰트 관련 \n",
    "import matplotlib.pyplot as plt   # 그래프 내 설정\n",
    "import matplotlib as mpl  # 기본 설정 \n"
   ]
  },
  {
   "cell_type": "code",
   "execution_count": 2,
   "metadata": {
    "colab": {
     "base_uri": "https://localhost:8080/",
     "height": 0
    },
    "id": "4PoUWBOvXBjj",
    "outputId": "c7aae88e-bf0d-4391-e9b7-46f244787ee1"
   },
   "outputs": [
    {
     "name": "stdout",
     "output_type": "stream",
     "text": [
      "Malgun Gothic\n"
     ]
    }
   ],
   "source": [
    "# 폰트의 경로를 통해 사용할 폰트 (맑은고딕)를 지정한다.\n",
    "\n",
    "path = r'C:\\Windows\\Fonts\\malgun.ttf'\n",
    "font_name = fm.FontProperties(fname=path, size=10).get_name()\n",
    "print(font_name)\n",
    "mpl.rc('font', family=font_name)    # 맑은고딕으로 설정\n",
    "mpl.rcParams['axes.unicode_minus'] = False  # - 부호 오류 보정"
   ]
  },
  {
   "cell_type": "markdown",
   "metadata": {
    "id": "94heZslpMcGw"
   },
   "source": [
    "# **사전준비 for colab**\n",
    "matplotlib 그래프 내 한글 글꼴 표시를 위한 설치 및 런타임 다시 시작과 폰트 설정 작업을 단계별로 수행한다."
   ]
  },
  {
   "cell_type": "markdown",
   "metadata": {
    "id": "o6q_PvNLRlYb"
   },
   "source": [
    "## [1] 폰트 설치 (나눔글꼴) 및 폰트매니저 재구성"
   ]
  },
  {
   "cell_type": "code",
   "execution_count": null,
   "metadata": {
    "colab": {
     "base_uri": "https://localhost:8080/",
     "height": 0
    },
    "id": "aSvO05pf6hVJ",
    "outputId": "45ad9752-1cd6-4f94-9fa3-7a9d3f5a6d6e"
   },
   "outputs": [],
   "source": [
    "####  없어도 됨 [폰트개수 확인용]\n",
    "# 시스템내 최초 설치된 폰트개수 확인 - 처음에는 기본 폰트만 설치됨\n",
    "\n",
    "import matplotlib.font_manager as fm  # 폰트 관련 용도\n",
    "sys_font=fm.findSystemFonts()\n",
    "print(f\"sys_font number: {len(sys_font)}\")\n",
    "\n",
    "nanum_font = [f for f in sys_font if 'Nanum' in f]\n",
    "print(f\"nanum_font number: {len(nanum_font)}\")"
   ]
  },
  {
   "cell_type": "code",
   "execution_count": null,
   "metadata": {
    "id": "uOjYIs0z1tlk"
   },
   "outputs": [],
   "source": [
    "# 나눔고디 폰트 설치\n",
    "\n",
    "!apt-get update -qq\n",
    "!apt-get install fonts-nanum* -qq"
   ]
  },
  {
   "cell_type": "code",
   "execution_count": null,
   "metadata": {
    "colab": {
     "base_uri": "https://localhost:8080/",
     "height": 0
    },
    "id": "75RhE6T65dLY",
    "outputId": "eb308b9f-1ed9-47d6-9236-54430bc769d0"
   },
   "outputs": [],
   "source": [
    "####  없어도 됨 [폰트개수 확인용]\n",
    "# 설치 후  폰트 개수 확인,  늘어 난 것을 알 수 있다.\n",
    "\n",
    "import matplotlib.font_manager as fm  # 폰트 관련 용도\n",
    "sys_font=fm.findSystemFonts()\n",
    "print(f\"sys_font number: {len(sys_font)}\")\n",
    "\n",
    "nanum_font = [f for f in sys_font if 'Nanum' in f]\n",
    "print(f\"nanum_font number: {len(nanum_font)}\")"
   ]
  },
  {
   "cell_type": "code",
   "execution_count": null,
   "metadata": {
    "id": "CzB6468q5k30"
   },
   "outputs": [],
   "source": [
    "# 폰트 매니저 재설정을 위한 명령문 수행 : fm._rebuild()\n",
    "import matplotlib.font_manager as fm\n",
    "fm._rebuild()"
   ]
  },
  {
   "cell_type": "markdown",
   "metadata": {
    "id": "lu95TR3H2cCk"
   },
   "source": [
    "## [2] 폰트 인식을 위한  '런타임 다시시작'\n",
    "  - '런타임' - '런타임 다시 시작' \n",
    "  - 또는 'Ctrl-M'\n"
   ]
  },
  {
   "cell_type": "markdown",
   "metadata": {
    "id": "40hDBn0xR3FT"
   },
   "source": [
    "## [3] 런타임 재시작 이후 \n",
    "   - 폰트  설정 및 마이너스 부호 오류 처리\n",
    "   - **시작 이후에는 본 셀 이후 부터 실행한다.**"
   ]
  },
  {
   "cell_type": "code",
   "execution_count": null,
   "metadata": {
    "id": "xB0e99-Wy6kO"
   },
   "outputs": [],
   "source": [
    "# 관련 라이브러리 임포트\n",
    "import matplotlib.font_manager as fm  # 폰트 관련 \n",
    "import matplotlib.pyplot as plt   # 그래프 내 설정\n",
    "import matplotlib as mpl  # 기본 설정 \n"
   ]
  },
  {
   "cell_type": "code",
   "execution_count": null,
   "metadata": {
    "colab": {
     "base_uri": "https://localhost:8080/",
     "height": 0
    },
    "id": "K7XvkPSp2HTL",
    "outputId": "d323b064-48db-4fdb-e25f-1d32c27a0d39"
   },
   "outputs": [],
   "source": [
    "####  없어도 됨 [폰트개수 확인용]\n",
    "# 런타임 다시 시작 이후, 설치 된 폰트 개수가 증가 한 상태임을 알 수 있다. \n",
    "sys_font=fm.findSystemFonts()\n",
    "print(f\"sys_font number: {len(sys_font)}\")\n",
    "\n",
    "nanum_font = [f for f in sys_font if 'Nanum' in f]\n",
    "print(f\"nanum_font number: {len(nanum_font)}\")"
   ]
  },
  {
   "cell_type": "code",
   "execution_count": null,
   "metadata": {
    "colab": {
     "base_uri": "https://localhost:8080/",
     "height": 0
    },
    "id": "4PoUWBOvXBjj",
    "outputId": "c7aae88e-bf0d-4391-e9b7-46f244787ee1"
   },
   "outputs": [],
   "source": [
    "# 폰트의 경로를 통해 사용할 폰트 (나눔고딕)를 지정한다.\n",
    "path = '/usr/share/fonts/truetype/nanum/NanumGothic.ttf'  # 설치된 나눔글꼴중 사용할 폰트의 전체 경로를 가져오자\n",
    "font_name = fm.FontProperties(fname=path, size=10).get_name()\n",
    "print(font_name)\n",
    "plt.rc('font', family=font_name)\n",
    "# 마이너스 부호 처리에 오류가 있는 경우를 방지 하기 위한 설정\n",
    "mpl.rcParams['axes.unicode_minus'] = False  "
   ]
  },
  {
   "cell_type": "markdown",
   "metadata": {
    "id": "GE0w2jyF4ayH"
   },
   "source": [
    "# **분석 수업**\n",
    "- 이후 정상적인 코드 작성하면 됨"
   ]
  },
  {
   "cell_type": "code",
   "execution_count": 3,
   "metadata": {
    "id": "9605y1I5cY53"
   },
   "outputs": [
    {
     "data": {
      "text/plain": [
       "array([  -88,  -158,  -331,  -356,  -540,  -452,  -536,  -456,  -613,\n",
       "        -573,  -756,  -666,  -827,  -728,  -892,  -914,  -950, -1108,\n",
       "       -1246, -1264, -1260, -1404, -1334, -1328, -1429, -1615, -1516,\n",
       "       -1590, -1518, -1571, -1542, -1471, -1525, -1703, -1716, -1841,\n",
       "       -1967, -2156, -2127, -2260, -2418, -2334, -2452, -2574, -2600,\n",
       "       -2791, -2886, -2807, -2783, -2726], dtype=int32)"
      ]
     },
     "execution_count": 3,
     "metadata": {},
     "output_type": "execute_result"
    }
   ],
   "source": [
    "# 데이터 준비\n",
    "import numpy as np\n",
    "\n",
    "data = np.random.randint(-200, 100, 50).cumsum()\n",
    "data"
   ]
  },
  {
   "cell_type": "code",
   "execution_count": 4,
   "metadata": {},
   "outputs": [
    {
     "data": {
      "text/plain": [
       "Text(0.5, 0, '시간(분)')"
      ]
     },
     "execution_count": 4,
     "metadata": {},
     "output_type": "execute_result"
    },
    {
     "data": {
      "image/png": "[encoded data removed]",
      "text/plain": [
       "<Figure size 720x576 with 1 Axes>"
      ]
     },
     "metadata": {
      "needs_background": "light"
     },
     "output_type": "display_data"
    }
   ],
   "source": [
    "# 한글을 넣어 그려본다\n",
    "import matplotlib.pyplot as plt \n",
    "%matplotlib inline\n",
    "plt.figure(figsize=(10,8))\n",
    "plt.plot(range(50), data, 'r')\n",
    "plt.title('시간별 가격추이')\n",
    "plt.ylabel('주식가격')\n",
    "plt.xlabel('시간(분)')"
   ]
  },
  {
   "cell_type": "code",
   "execution_count": null,
   "metadata": {},
   "outputs": [],
   "source": []
  }
 ],
 "metadata": {
  "colab": {
   "collapsed_sections": [
    "o6q_PvNLRlYb",
    "40hDBn0xR3FT",
    "TLIjqUjZcY38",
    "yg43ZAVlcY4Z"
   ],
   "name": "matplotlib_한글 템플릿",
   "provenance": [],
   "toc_visible": true
  },
  "kernelspec": {
   "display_name": "Python 3",
   "language": "python",
   "name": "python3"
  },
  "language_info": {
   "codemirror_mode": {
    "name": "ipython",
    "version": 3
   },
   "file_extension": ".py",
   "mimetype": "text/x-python",
   "name": "python",
   "nbconvert_exporter": "python",
   "pygments_lexer": "ipython3",
   "version": "3.7.4"
  }
 },
 "nbformat": 4,
 "nbformat_minor": 1
}
