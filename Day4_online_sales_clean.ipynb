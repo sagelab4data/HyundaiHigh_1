{
 "cells": [
  {
   "cell_type": "markdown",
   "metadata": {
    "id": "94heZslpMcGw"
   },
   "source": [
    "# **사전준비 for windows**\n",
    "window 기본 폰트인 맑은고딕으로 설정한다. \n",
    "window에 설치된 jupyter notebook kernel에서 실행할 때 사용한다.\n",
    "(colab으로 진행할 경우에는 '사전준비 for colab' 만 실행하면 된다"
   ]
  },
  {
   "cell_type": "code",
   "execution_count": null,
   "metadata": {
    "id": "xB0e99-Wy6kO"
   },
   "outputs": [],
   "source": [
    "# 관련 라이브러리 임포트\n",
    "import matplotlib.font_manager as fm  # 폰트 관련 \n",
    "import matplotlib.pyplot as plt   # 그래프 내 설정\n",
    "import matplotlib as mpl  # 기본 설정 \n"
   ]
  },
  {
   "cell_type": "code",
   "execution_count": null,
   "metadata": {
    "colab": {
     "base_uri": "https://localhost:8080/",
     "height": 0
    },
    "id": "4PoUWBOvXBjj",
    "outputId": "c7aae88e-bf0d-4391-e9b7-46f244787ee1"
   },
   "outputs": [],
   "source": [
    "# 폰트의 경로를 통해 사용할 폰트 (맑은고딕)를 지정한다.\n",
    "\n",
    "path = r'C:\\Windows\\Fonts\\malgun.ttf'\n",
    "font_name = fm.FontProperties(fname=path, size=10).get_name()\n",
    "print(font_name)\n",
    "mpl.rc('font', family=font_name)    # 맑은고딕으로 설정\n",
    "mpl.rcParams['axes.unicode_minus'] = False  # - 부호 오류 보정"
   ]
  },
  {
   "cell_type": "markdown",
   "metadata": {
    "id": "94heZslpMcGw"
   },
   "source": [
    "# **사전준비 for colab**\n",
    "matplotlib 그래프 내 한글 글꼴 표시를 위한 설치 및 런타임 다시 시작과 폰트 설정 작업을 단계별로 수행한다."
   ]
  },
  {
   "cell_type": "markdown",
   "metadata": {
    "id": "o6q_PvNLRlYb"
   },
   "source": [
    "## [1] 폰트 설치 (나눔글꼴) 및 폰트매니저 재구성"
   ]
  },
  {
   "cell_type": "code",
   "execution_count": null,
   "metadata": {
    "colab": {
     "base_uri": "https://localhost:8080/",
     "height": 0
    },
    "id": "aSvO05pf6hVJ",
    "outputId": "45ad9752-1cd6-4f94-9fa3-7a9d3f5a6d6e"
   },
   "outputs": [],
   "source": [
    "####  없어도 됨 [폰트개수 확인용]\n",
    "# 시스템내 최초 설치된 폰트개수 확인 - 처음에는 기본 폰트만 설치됨\n",
    "\n",
    "import matplotlib.font_manager as fm  # 폰트 관련 용도\n",
    "sys_font=fm.findSystemFonts()\n",
    "print(f\"sys_font number: {len(sys_font)}\")\n",
    "\n",
    "nanum_font = [f for f in sys_font if 'Nanum' in f]\n",
    "print(f\"nanum_font number: {len(nanum_font)}\")"
   ]
  },
  {
   "cell_type": "code",
   "execution_count": null,
   "metadata": {
    "id": "uOjYIs0z1tlk"
   },
   "outputs": [],
   "source": [
    "# 나눔고디 폰트 설치\n",
    "\n",
    "!apt-get update -qq\n",
    "!apt-get install fonts-nanum* -qq"
   ]
  },
  {
   "cell_type": "code",
   "execution_count": null,
   "metadata": {
    "colab": {
     "base_uri": "https://localhost:8080/",
     "height": 0
    },
    "id": "75RhE6T65dLY",
    "outputId": "eb308b9f-1ed9-47d6-9236-54430bc769d0"
   },
   "outputs": [],
   "source": [
    "####  없어도 됨 [폰트개수 확인용]\n",
    "# 설치 후  폰트 개수 확인,  늘어 난 것을 알 수 있다.\n",
    "\n",
    "import matplotlib.font_manager as fm  # 폰트 관련 용도\n",
    "sys_font=fm.findSystemFonts()\n",
    "print(f\"sys_font number: {len(sys_font)}\")\n",
    "\n",
    "nanum_font = [f for f in sys_font if 'Nanum' in f]\n",
    "print(f\"nanum_font number: {len(nanum_font)}\")"
   ]
  },
  {
   "cell_type": "code",
   "execution_count": null,
   "metadata": {
    "id": "CzB6468q5k30"
   },
   "outputs": [],
   "source": [
    "# 폰트 매니저 재설정을 위한 명령문 수행 : fm._rebuild()\n",
    "import matplotlib.font_manager as fm\n",
    "fm._rebuild()"
   ]
  },
  {
   "cell_type": "markdown",
   "metadata": {
    "id": "lu95TR3H2cCk"
   },
   "source": [
    "## [2] 폰트 인식을 위한  '런타임 다시시작'\n",
    "  - '런타임' - '런타임 다시 시작' \n",
    "  - 또는 'Ctrl-M'\n"
   ]
  },
  {
   "cell_type": "markdown",
   "metadata": {
    "id": "40hDBn0xR3FT"
   },
   "source": [
    "## [3] 런타임 재시작 이후 \n",
    "   - 폰트  설정 및 마이너스 부호 오류 처리\n",
    "   - **시작 이후에는 본 셀 이후 부터 실행한다.**"
   ]
  },
  {
   "cell_type": "code",
   "execution_count": null,
   "metadata": {
    "id": "xB0e99-Wy6kO"
   },
   "outputs": [],
   "source": [
    "# 관련 라이브러리 임포트\n",
    "import matplotlib.font_manager as fm  # 폰트 관련 \n",
    "import matplotlib.pyplot as plt   # 그래프 내 설정\n",
    "import matplotlib as mpl  # 기본 설정 \n"
   ]
  },
  {
   "cell_type": "code",
   "execution_count": null,
   "metadata": {
    "colab": {
     "base_uri": "https://localhost:8080/",
     "height": 0
    },
    "id": "K7XvkPSp2HTL",
    "outputId": "d323b064-48db-4fdb-e25f-1d32c27a0d39"
   },
   "outputs": [],
   "source": [
    "####  없어도 됨 [폰트개수 확인용]\n",
    "# 런타임 다시 시작 이후, 설치 된 폰트 개수가 증가 한 상태임을 알 수 있다. \n",
    "sys_font=fm.findSystemFonts()\n",
    "print(f\"sys_font number: {len(sys_font)}\")\n",
    "\n",
    "nanum_font = [f for f in sys_font if 'Nanum' in f]\n",
    "print(f\"nanum_font number: {len(nanum_font)}\")"
   ]
  },
  {
   "cell_type": "code",
   "execution_count": null,
   "metadata": {
    "colab": {
     "base_uri": "https://localhost:8080/",
     "height": 0
    },
    "id": "4PoUWBOvXBjj",
    "outputId": "c7aae88e-bf0d-4391-e9b7-46f244787ee1"
   },
   "outputs": [],
   "source": [
    "# 폰트의 경로를 통해 사용할 폰트 (나눔고딕)를 지정한다.\n",
    "path = '/usr/share/fonts/truetype/nanum/NanumGothic.ttf'  # 설치된 나눔글꼴중 사용할 폰트의 전체 경로를 가져오자\n",
    "font_name = fm.FontProperties(fname=path, size=10).get_name()\n",
    "print(font_name)\n",
    "plt.rc('font', family=font_name)\n",
    "# 마이너스 부호 처리에 오류가 있는 경우를 방지 하기 위한 설정\n",
    "mpl.rcParams['axes.unicode_minus'] = False "
   ]
  },
  {
   "cell_type": "markdown",
   "metadata": {
    "id": "GE0w2jyF4ayH"
   },
   "source": [
    "# **분석 수업**\n",
    "- 이후 정상적인 코드 작성하면 됨"
   ]
  },
  {
   "cell_type": "code",
   "execution_count": null,
   "metadata": {
    "id": "hkdsTBQBcY3j"
   },
   "outputs": [],
   "source": [
    "\"\"\"\n",
    "online 판매 데이터 분석\n",
    "  판매매체별 : 2개 채널\n",
    "       '모바일쇼핑', '인터넷쇼핑'\n",
    "  상품군별 : 23개 상품군\n",
    "       'e쿠폰서비스', '가구', '가방', '가전·전자·통신기기', '기타', '기타서비스',\n",
    "       '농축수산물','문화 및 레저서비스', '사무·문구', '생활용품', '서적', \n",
    "       '스포츠·레저용품', '신발', '아동·유아용품','애완용품', '여행 및 교통서비스', \n",
    "       '음·식료품', '음식서비스', '의복', '자동차 및 자동차용품',\n",
    "       '컴퓨터 및 주변기기', '패션용품 및 액세서리', '화장품'\n",
    "  판매연월 : 32개월\n",
    "    2018년 1월~ 2020년 8월  \n",
    "\n",
    " \n",
    " - 데이터 자체의 이해를 위한 분석\n",
    "  0.데이터 적재 및 형태 가공  \n",
    "  1.기초분석\n",
    "  2.상품군별 온라인 판매 추이 (시계열)\n",
    "  3.판매매체별 상품군별 특성 분석\n",
    "  4. 판매매체별 상품군별 변화추이 분석\n",
    "\n",
    "\"\"\"\n"
   ]
  },
  {
   "cell_type": "code",
   "execution_count": null,
   "metadata": {
    "id": "0iry6nHMcY3u"
   },
   "outputs": [],
   "source": [
    "import numpy as np\n",
    "import pandas as pd\n",
    "import matplotlib.pyplot as plt\n",
    "\n",
    "import seaborn as sns"
   ]
  },
  {
   "cell_type": "code",
   "execution_count": null,
   "metadata": {
    "id": "exHKyT60cY32"
   },
   "outputs": [],
   "source": [
    "# category colors\n",
    "\n",
    "prod_colors = ['yellow', 'greenyellow', 'yellowgreen','darkslategray','limegreen',\n",
    "               'lime', 'forestgreen','darkgreen', 'darkcyan','darkblue',\n",
    "               'teal', 'blue','mediumblue','olivedrab','purple',\n",
    "                'darkkhaki','tan', 'maroon', 'orange','crimson',\n",
    "               'sienna', 'tomato', 'darksalmon']\n",
    "\n",
    "channel_colors = [ 'red', 'blue']"
   ]
  },
  {
   "cell_type": "markdown",
   "metadata": {
    "id": "TLIjqUjZcY38"
   },
   "source": [
    "# 0 데이터 적재 및 형태 가공"
   ]
  },
  {
   "cell_type": "code",
   "execution_count": null,
   "metadata": {
    "colab": {
     "base_uri": "https://localhost:8080/",
     "height": 0
    },
    "id": "U-HNM06zcY3-",
    "outputId": "5317a696-949f-4f76-94b8-aed0b5baa78a"
   },
   "outputs": [],
   "source": [
    "online_raw = pd.read_excel('https://github.com/sagelab4data/firsttest/blob/main/OnlineSales-Product.xlsx?raw=true')\n",
    "online_raw.tail(3)"
   ]
  },
  {
   "cell_type": "code",
   "execution_count": null,
   "metadata": {
    "id": "n-5nGc9kcY4D"
   },
   "outputs": [],
   "source": []
  },
  {
   "cell_type": "code",
   "execution_count": null,
   "metadata": {
    "colab": {
     "base_uri": "https://localhost:8080/",
     "height": 0
    },
    "id": "vyLC0YiBcY4G",
    "outputId": "3339c793-3d0c-4389-9887-11b115b8ce16",
    "scrolled": true
   },
   "outputs": [],
   "source": [
    "# 상품군별, 판매매체별 은 컬럼으로 구성 되어 있으나, \n",
    "# 컬럼의 값이여야 하는 판매연월이 컬럼명이 되어 구성 되어 있다. \n",
    "online_raw.shape"
   ]
  },
  {
   "cell_type": "code",
   "execution_count": null,
   "metadata": {
    "colab": {
     "base_uri": "https://localhost:8080/",
     "height": 0
    },
    "id": "BxWEHVUccY4M",
    "outputId": "d2b2a761-00cb-4bf1-c2ce-7ab359a45c5f",
    "scrolled": true
   },
   "outputs": [],
   "source": [
    "# 엑셀이 집계 컬럼 형태여서 상품군별에 누락값이 있다. \n",
    "# 첫 번째 상품군별 컬럼에 NaN을 ffill 로 채우기\n",
    "online_raw.상품군별.fillna(method = 'ffill', inplace = True)\n",
    "online_raw.head(10)"
   ]
  },
  {
   "cell_type": "code",
   "execution_count": null,
   "metadata": {
    "colab": {
     "base_uri": "https://localhost:8080/",
     "height": 0
    },
    "id": "eTvQS5gEcY4R",
    "outputId": "b9501222-d09c-4ced-d533-cb6cc9967d66",
    "scrolled": true
   },
   "outputs": [],
   "source": [
    "# data 형태를 tidy 한 형태로 변경 한다. \n",
    "online_melted = online_raw.melt(id_vars = ['상품군별', '판매매체별'] , \n",
    "                var_name = '판매연월', \n",
    "                value_name = '판매액' )\n",
    "online_melted.head()"
   ]
  },
  {
   "cell_type": "code",
   "execution_count": null,
   "metadata": {
    "colab": {
     "base_uri": "https://localhost:8080/",
     "height": 0
    },
    "id": "wMLzU4p6cY4V",
    "outputId": "da55563f-268f-4b93-c1f6-d797509f7b6a",
    "scrolled": true
   },
   "outputs": [],
   "source": [
    "# 중복된 정보인 상품군별 = '합계' , 판매매체별  = '계'  삭제 \n",
    "online = online_melted.mask (online_melted.상품군별 == '합계')\\\n",
    "             .mask (online_melted.판매매체별 == '계')\\\n",
    "             .dropna()\n",
    "\n",
    "# 판매연월은 일자 타입으로 변경\n",
    "online.판매연월 = online.판매연월.astype(np.datetime64)\n",
    "online.head()   # 분석할 DF"
   ]
  },
  {
   "cell_type": "markdown",
   "metadata": {
    "id": "yg43ZAVlcY4Z"
   },
   "source": [
    "# 1. 기초분석"
   ]
  },
  {
   "cell_type": "code",
   "execution_count": null,
   "metadata": {
    "colab": {
     "base_uri": "https://localhost:8080/",
     "height": 0
    },
    "id": "LgZOPbdVcY4Z",
    "outputId": "89eb96c6-81b3-4957-a5af-4410037c6568"
   },
   "outputs": [],
   "source": [
    "online.shape  # 23개 상품군 * 32개월 * 2개 매체  = 1472행"
   ]
  },
  {
   "cell_type": "code",
   "execution_count": null,
   "metadata": {
    "colab": {
     "base_uri": "https://localhost:8080/",
     "height": 0
    },
    "id": "XI7c6JwfcY4d",
    "outputId": "51492f2c-0ecc-4fc1-d43b-73e8b37b8484"
   },
   "outputs": [],
   "source": [
    "online.info()"
   ]
  },
  {
   "cell_type": "code",
   "execution_count": null,
   "metadata": {
    "colab": {
     "base_uri": "https://localhost:8080/",
     "height": 0
    },
    "id": "q3Av6o5KcY4i",
    "outputId": "fd4aca0f-1bc8-44f8-e10d-6457e66bf892"
   },
   "outputs": [],
   "source": [
    "online.describe().astype(int)"
   ]
  },
  {
   "cell_type": "code",
   "execution_count": null,
   "metadata": {
    "colab": {
     "base_uri": "https://localhost:8080/",
     "height": 0
    },
    "id": "Vob99kezcY4m",
    "outputId": "b713cf5e-7fbe-461f-fbd7-fc0e60805e11"
   },
   "outputs": [],
   "source": [
    "online.describe(include = ['object', np.datetime64])"
   ]
  },
  {
   "cell_type": "markdown",
   "metadata": {
    "id": "M2P3Zjz-cY4q"
   },
   "source": [
    "# 2. 상품군별 온라인 판매 추이 (시계열)"
   ]
  },
  {
   "cell_type": "code",
   "execution_count": null,
   "metadata": {
    "colab": {
     "base_uri": "https://localhost:8080/",
     "height": 426
    },
    "id": "Rz1ROQU-cY4q",
    "outputId": "9c83ddfd-dfb8-4a9b-a49c-fe460e8a2d07",
    "scrolled": true
   },
   "outputs": [],
   "source": [
    "online_prod = online.groupby(['상품군별', '판매연월']).sum().unstack('상품군별')\n",
    "online_prod.tail()"
   ]
  },
  {
   "cell_type": "code",
   "execution_count": null,
   "metadata": {
    "id": "_rO-P-cicY4t"
   },
   "outputs": [],
   "source": [
    "online_prod.columns = online_prod.columns.levels[1]"
   ]
  },
  {
   "cell_type": "code",
   "execution_count": null,
   "metadata": {
    "colab": {
     "base_uri": "https://localhost:8080/",
     "height": 425
    },
    "id": "0HEXNOz-cY4y",
    "outputId": "c3028fd3-1d5a-4de6-fa8f-f0c01c08b0b6",
    "scrolled": false
   },
   "outputs": [],
   "source": [
    "# 각 상품군별 추세, \n",
    "# 하나의 그래프에 그리면 모두가 혼합되어 알아보기가 어렵다. \n",
    "\n",
    "online_prod.plot(figsize = (12,6))\n"
   ]
  },
  {
   "cell_type": "code",
   "execution_count": null,
   "metadata": {
    "colab": {
     "base_uri": "https://localhost:8080/",
     "height": 1000
    },
    "id": "cEgdbKUecY44",
    "outputId": "b2755f86-23b2-4701-98c2-5b84e5f4ba5c",
    "scrolled": false
   },
   "outputs": [],
   "source": [
    "###  상품군별 판매 동향 추이\n",
    "### Q1. 코로나 이후 급격하게 성장한 제품군은?\n",
    "### Q2. 코로나로 인하여 제품 판매가 현저하게 줄어든 제품군은?\n",
    "### Q3. 원래 부터 성장세였던 제품군은?\n",
    "### Q4. 계절성이 있는 제품군은?\n",
    "### Q5. 21.컴퓨터 및 주변 기기에 판매동향에 대해서 해석해보라.\n",
    "### Q6. 14.아동유아용품, 19.의복 과 22.패션용품 및 액세서리 에서 나타나는 현상의 공통점과 차이점을 논해보라\n",
    "\n",
    "\n",
    "fig, ax = plt.subplots(len (online_prod.columns)//2 +1 ,2 , figsize = (12, 25))\n",
    "plt.subplots_adjust(hspace=0.7)\n",
    "\n",
    "x1 = np.datetime64('2019-01-01')\n",
    "x2 = np.datetime64('2020-01-01')\n",
    "\n",
    "axe = ax.flat\n",
    "for i, col in enumerate (online_prod.columns) :\n",
    "    online_prod[col].plot(ax = axe[i], title = str(i+1) + '.'+ col, color = prod_colors[i])\n",
    "    axe[i].xaxis.label.set_visible(False)\n",
    "    ymin = online_prod[col].min()\n",
    "    ymax = online_prod[col].max()\n",
    "    axe[i].vlines(x = [x1, x2], ymin = ymin, ymax= ymax, color = 'gray', linestyle = '--')\n",
    "    "
   ]
  },
  {
   "cell_type": "markdown",
   "metadata": {
    "id": "gies20fScY47"
   },
   "source": [
    "# 3. 판매매체별 상품군별 특성 분석"
   ]
  },
  {
   "cell_type": "code",
   "execution_count": null,
   "metadata": {
    "colab": {
     "base_uri": "https://localhost:8080/",
     "height": 195
    },
    "id": "zQq0in8lcY47",
    "outputId": "4963a1cb-2805-4dc3-9549-9ca97d6b7f76",
    "scrolled": true
   },
   "outputs": [],
   "source": [
    "# 데이터를 상품군별, 판매연월별 모바일쇼핑, 인터넷 쇼핑 형태로 정리한다. \n",
    "\n",
    "online_channel = online.groupby(['판매매체별','상품군별', '판매연월'])\\\n",
    "                        .sum().unstack('판매매체별')\n",
    "online_channel.columns = online_channel.columns.levels[1]\n",
    "online_channel.reset_index (inplace = True)\n",
    "online_channel.columns.name = None\n",
    "online_channel.tail()"
   ]
  },
  {
   "cell_type": "code",
   "execution_count": null,
   "metadata": {
    "colab": {
     "base_uri": "https://localhost:8080/",
     "height": 458
    },
    "id": "VdJcHBI8cY5C",
    "outputId": "fc36502a-42cf-4593-8212-673e1d32aa51"
   },
   "outputs": [],
   "source": [
    "## 모바일과 인터넷의 판매 비율은 일정할까?\n",
    "## 모두 비슷한 비율이라면 비교적 일직선에 수렴할 것이다. \n",
    "## 여러 기울기가 관측되므로, 아무래도 몇 가지 유형이 있는듯 하다. \n",
    "\n",
    "sns.jointplot(data = online_channel, x = '모바일쇼핑', y = '인터넷쇼핑')"
   ]
  },
  {
   "cell_type": "code",
   "execution_count": null,
   "metadata": {
    "colab": {
     "base_uri": "https://localhost:8080/",
     "height": 556
    },
    "id": "FDSnE0v5cY5H",
    "outputId": "b8714aa4-7dca-42b0-96e9-12081c352545"
   },
   "outputs": [],
   "source": [
    "# 상품군별로 기울기가 차이가 있을 것으로 예상되므로 상품군별색을 분류해서 볼수 있는 \n",
    "# pairplot을 수행해 본다. \n",
    "# 좌하단 차트를 보면 상품군별로 모방일을 더 사용하거나 \n",
    "# 인터넷을 더 사용하는 제품군의 차이가 있어보인다. \n",
    "\n",
    "## 추가로... 상품군별로는 대체로 직선형태로 보이므로 모바일채널이 증가하거나 감소하는 경우는 \n",
    "## 적을 것으로 예상된다. 한쪽 채널의 비중 변화가 있으면 직선이 아니라 휘는 모습이 관찰 될 것이다. \n",
    "\n",
    "\n",
    "g=sns.pairplot(online_channel, hue = '상품군별')\n",
    "g.fig.set_size_inches(12,8)\n",
    "\n"
   ]
  },
  {
   "cell_type": "code",
   "execution_count": null,
   "metadata": {
    "colab": {
     "base_uri": "https://localhost:8080/",
     "height": 225
    },
    "id": "obCwm0hRcY5K",
    "outputId": "b14e00aa-16f0-466a-f796-6f613ca617b1"
   },
   "outputs": [],
   "source": [
    "## 상품군별 모바일/인터넷 채널 비율을 비교 하기 위해서 상품군별 모바일비율, 인터넷비율을 구하고\n",
    "## 상품군 판매규모순으로 정렬한다.  ( 매체 선택에 판매규모가 관계가 있는지 판단하기 위해서...)\n",
    "\n",
    "online_channel2 = online_channel.groupby('상품군별')[['모바일쇼핑','인터넷쇼핑']].sum()\n",
    "online_channel2['온라인합계']= online_channel2.모바일쇼핑 + online_channel2.인터넷쇼핑\n",
    "online_channel2['모바일비율']= online_channel2.모바일쇼핑 / online_channel2.온라인합계\n",
    "online_channel2['인터넷비율']= online_channel2.인터넷쇼핑 / online_channel2.온라인합계\n",
    "online_channel2.sort_values('온라인합계', inplace = True)  ## 판매액순으로 정렬\n",
    "online_channel2.tail()"
   ]
  },
  {
   "cell_type": "code",
   "execution_count": null,
   "metadata": {
    "colab": {
     "base_uri": "https://localhost:8080/",
     "height": 501
    },
    "id": "sbaDlnI3cY5O",
    "outputId": "145f310e-5c24-4cc4-d1f7-155cf7ee8a45",
    "scrolled": false
   },
   "outputs": [],
   "source": [
    "# 가설1. 상품 판매 규모가 클수록  특정 채널 비중이 높을 것이다.\n",
    "\n",
    "# 상품군별 판매액 순으로 정렬하고, 매체별 비율을 도식화하여 관찰해보자.\n",
    "# 아래 매체비율이 들쑥날쑥하여 판매규모와 연관성은 없어 보인다. \n",
    "\n",
    "fig, ax = plt.subplots(2,1, figsize = (12,12), sharex = True)\n",
    "\n",
    "online_channel2[['모바일쇼핑','인터넷쇼핑']]\\\n",
    "        .plot(kind = 'bar', stacked = True, figsize = (12,6),\n",
    "             title = '판매규모순 채널별 판매비율', ax=ax[0])\n",
    "\n",
    "online_channel2[['모바일비율','인터넷비율']]\\\n",
    "        .plot(kind = 'bar', stacked = True, figsize = (12,6),\n",
    "              ax=ax[1], legend = False)"
   ]
  },
  {
   "cell_type": "code",
   "execution_count": null,
   "metadata": {
    "colab": {
     "base_uri": "https://localhost:8080/",
     "height": 225
    },
    "id": "lOIdw9wWcY5V",
    "outputId": "c1477edd-8bac-432c-e55d-d398cfc9a5c9"
   },
   "outputs": [],
   "source": [
    "# 가설2. 인터넷쇼핑을 선호하는 경우, 제품에 대한 검색이 더 필요하다 .(고관여 제품이다)\n",
    "\n",
    "# 모바일비율별 순으로 정렬하여  관찰해보자.\n",
    "\n",
    "online_channel3 = online_channel2.sort_values('모바일비율')\n",
    "online_channel3.tail()"
   ]
  },
  {
   "cell_type": "code",
   "execution_count": null,
   "metadata": {
    "colab": {
     "base_uri": "https://localhost:8080/",
     "height": 501
    },
    "id": "M20YsAOccY5b",
    "outputId": "ca76b99f-8398-4f70-b9dc-0ce0166d8e0c"
   },
   "outputs": [],
   "source": [
    "fig, ax = plt.subplots(2,1, figsize = (12,12), sharex = True)\n",
    "\n",
    "online_channel3[['모바일쇼핑','인터넷쇼핑']]\\\n",
    "        .plot(kind = 'bar', stacked = True, figsize = (12,6),\n",
    "             title = '모바일 채널 비중순 판매비율', ax=ax[0])\n",
    "\n",
    "online_channel3[['모바일비율','인터넷비율']]\\\n",
    "        .plot(kind = 'bar', stacked = True, figsize = (12,6),\n",
    "              ax=ax[1], legend = False)"
   ]
  },
  {
   "cell_type": "code",
   "execution_count": null,
   "metadata": {
    "id": "AKbwF1-9cY5i"
   },
   "outputs": [],
   "source": [
    "# 가설2에 대해서\n",
    "# 컴퓨터, 서적, 자동차 및 자동차용품, 가전 등이 인터넷 비중이 높고 고관여 제품인것 같다.\n",
    "# 사무문구는 장바구니에 여러가지를 담아 pc를 사용하는것 같다. \n",
    "# 화장품도 고관여인가? 사무실에서 업무하다가 구매하나?\n",
    "\n",
    "# 음식서비스는 압도적으로 모바일매체가 높다. 음식료, 농축수산물도 상대적으로 모바일이 높다. \n",
    "# e쿠폰도 특성상 모바일이 높다. \n",
    "# 아동 유아용품에는 기저귀, 분유 등이 포함되어, 반복 구매가 높을 수 있다. "
   ]
  },
  {
   "cell_type": "code",
   "execution_count": null,
   "metadata": {
    "id": "DPl0H858cY5n"
   },
   "outputs": [],
   "source": []
  },
  {
   "cell_type": "markdown",
   "metadata": {
    "id": "eQE6aEiNcY5q"
   },
   "source": [
    "# 4. 판매매체별 상품군별 변화추이 분석"
   ]
  },
  {
   "cell_type": "code",
   "execution_count": null,
   "metadata": {
    "colab": {
     "base_uri": "https://localhost:8080/",
     "height": 402
    },
    "id": "SmBmQm7FcY5q",
    "outputId": "bea52a4b-cc88-47ff-b9ad-3e54fe670a4b"
   },
   "outputs": [],
   "source": [
    "online_channel"
   ]
  },
  {
   "cell_type": "code",
   "execution_count": null,
   "metadata": {
    "colab": {
     "base_uri": "https://localhost:8080/",
     "height": 225
    },
    "id": "BSusnDCVcY5u",
    "outputId": "57417ad5-0a56-47a8-e80d-6d36d28cb624",
    "scrolled": true
   },
   "outputs": [],
   "source": [
    "# 상품군별, 판매연월별로 매체를 컬럼으로 하여 데이터 재구성.\n",
    "# 매체별 비율컬럼 추가\n",
    "# ocym : online channel year month\n",
    "ocym = online_channel.set_index(['상품군별','판매연월'])\n",
    "ocym['온라인합계'] = ocym.모바일쇼핑 + ocym.인터넷쇼핑\n",
    "ocym['모바일비율'] = ocym.모바일쇼핑 / ocym.온라인합계\n",
    "ocym['인터넷비율'] = ocym.인터넷쇼핑 / ocym.온라인합계\n",
    "ocym.tail()"
   ]
  },
  {
   "cell_type": "code",
   "execution_count": null,
   "metadata": {
    "colab": {
     "base_uri": "https://localhost:8080/",
     "height": 1000
    },
    "id": "m_I13qVDcY5w",
    "outputId": "e2c05d9f-4ef3-44df-8b8e-987a7f6399ae",
    "scrolled": false
   },
   "outputs": [],
   "source": [
    "# 상품군별로  왼쪽은 매체별 누적,  오른쪽은 매체별 비율\n",
    "#  오른쪽을 보면 간혹, 인터넷 비중이 급증 하는 경우가 보인다. \n",
    "# 20.자동차는 행사 영향이 있는 것 같다. \n",
    "# 16.여행이 코로나 이후 모바일 비율이 늘었고 (왼쪽과 조합해보면, 사실은 인터넷 비율이 확 줄어 든 것임)\n",
    "# 23.화장품은 인터넷 비율이 늘었다 (왜?)\n",
    "\n",
    "\n",
    "fig, ax = plt.subplots(len (online_prod.columns) ,2 , figsize = (12, 50))\n",
    "plt.subplots_adjust(hspace=0.7)\n",
    "\n",
    "x1 = np.datetime64('2019-01-01')\n",
    "x2 = np.datetime64('2020-01-01')\n",
    "prod_list = online_prod.columns\n",
    "\n",
    "for i, prod in enumerate (prod_list) :\n",
    "    ocym.loc[ prod][['모바일쇼핑','인터넷쇼핑']].plot(ax = ax[i][0],\n",
    "                           title = str(i+1) + '.'+ prod +'(매체누적)', \n",
    "                            stacked = True)\n",
    "    ocym.loc[ prod][['모바일비율','인터넷비율']].plot(\n",
    "                         ax = ax[i][1],\n",
    "                           title = str(i+1) + '.'+ prod + '(매체비율)', \n",
    "                            stacked = True, legend = False)\n",
    "    \n",
    "    ymin = ocym.loc[prod].min().min()\n",
    "    ymax = ocym.loc[prod].max().max()*2\n",
    "    ax[i][0].vlines(x = [x1, x2], ymin = ymin, ymax= ymax, \n",
    "                        color = 'gray', linestyle = '--')\n",
    "    ax[i][1].vlines(x = [x1, x2], ymin =0, ymax= 1, \n",
    "                        color = 'gray', linestyle = '--')\n",
    "    \n",
    "    for j in [0,1] :\n",
    "        ax[i][j].xaxis.label.set_visible(False)\n",
    "        \n",
    "        \n",
    "    ax[i][1].set_ylim(0,1)\n",
    "    "
   ]
  },
  {
   "cell_type": "code",
   "execution_count": null,
   "metadata": {
    "id": "9605y1I5cY53"
   },
   "outputs": [],
   "source": []
  }
 ],
 "metadata": {
  "colab": {
   "collapsed_sections": [
    "o6q_PvNLRlYb",
    "40hDBn0xR3FT",
    "TLIjqUjZcY38",
    "yg43ZAVlcY4Z"
   ],
   "name": "online sales 2018-20 Aug.한글실험",
   "provenance": [],
   "toc_visible": true
  },
  "kernelspec": {
   "display_name": "Python 3",
   "language": "python",
   "name": "python3"
  },
  "language_info": {
   "codemirror_mode": {
    "name": "ipython",
    "version": 3
   },
   "file_extension": ".py",
   "mimetype": "text/x-python",
   "name": "python",
   "nbconvert_exporter": "python",
   "pygments_lexer": "ipython3",
   "version": "3.7.4"
  }
 },
 "nbformat": 4,
 "nbformat_minor": 1
}
